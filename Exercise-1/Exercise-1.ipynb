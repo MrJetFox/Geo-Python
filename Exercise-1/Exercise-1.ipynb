{
 "cells": [
  {
   "cell_type": "markdown",
   "id": "d66e6ab6-4374-431b-9ee9-e921755e08a4",
   "metadata": {},
   "source": [
    "Задача 1"
   ]
  },
  {
   "cell_type": "code",
   "execution_count": null,
   "id": "6c8fa4a8-be3d-4645-afb1-6adbe42ba782",
   "metadata": {},
   "outputs": [],
   "source": [
    "#Выполнено"
   ]
  },
  {
   "cell_type": "markdown",
   "id": "76ca5abf-f1df-4b4c-93e6-25aed1100d0b",
   "metadata": {},
   "source": [
    "Задача 2"
   ]
  },
  {
   "cell_type": "code",
   "execution_count": 1,
   "id": "540ae8a3-1088-4447-9230-0103d4f39310",
   "metadata": {
    "tags": []
   },
   "outputs": [
    {
     "name": "stdout",
     "output_type": "stream",
     "text": [
      "5\n",
      "3\n"
     ]
    }
   ],
   "source": [
    "import random  # Решил сделать любовь к мороженному и сну волей случая\n",
    "ice_cream_rating = random.randint(0, 10)\n",
    "sleep_rating = random.randint(0, 10)\n",
    "print (ice_cream_rating)\n",
    "print (sleep_rating)"
   ]
  },
  {
   "cell_type": "markdown",
   "id": "6820c221-9b26-4a26-b4cc-658d4b271306",
   "metadata": {},
   "source": [
    "Задача 3"
   ]
  },
  {
   "cell_type": "code",
   "execution_count": 2,
   "id": "fb6286fa-f83c-4d6c-abf0-59200d391173",
   "metadata": {
    "tags": []
   },
   "outputs": [
    {
     "name": "stdin",
     "output_type": "stream",
     "text": [
      "Моё имя:  Коля\n",
      "Моя фамилия:  Матвеев\n"
     ]
    },
    {
     "name": "stdout",
     "output_type": "stream",
     "text": [
      "Коля Матвеев\n"
     ]
    }
   ],
   "source": [
    "first_name = input(\"Моё имя: \")\n",
    "last_name = input(\"Моя фамилия: \")\n",
    "my_name = first_name + \" \" + last_name\n",
    "print (my_name)"
   ]
  },
  {
   "cell_type": "markdown",
   "id": "cc239356-13d9-4aa7-931a-2cfb71d75970",
   "metadata": {},
   "source": [
    "Задача 4"
   ]
  },
  {
   "cell_type": "code",
   "execution_count": 3,
   "id": "4394ff41-271f-4def-a12f-d412780d06d2",
   "metadata": {
    "tags": []
   },
   "outputs": [
    {
     "name": "stdout",
     "output_type": "stream",
     "text": [
      "4.0\n"
     ]
    }
   ],
   "source": [
    "def sr(a, b):\n",
    "    a = (a + b) / 2\n",
    "    return a\n",
    "happiness_rating = sr(ice_cream_rating, sleep_rating)\n",
    "print (happiness_rating)"
   ]
  },
  {
   "cell_type": "code",
   "execution_count": 4,
   "id": "80756fff-fab2-4fbd-b68b-e78f508e8c86",
   "metadata": {
    "tags": []
   },
   "outputs": [
    {
     "name": "stdout",
     "output_type": "stream",
     "text": [
      "<class 'int'>\n",
      "<class 'str'>\n",
      "<class 'float'>\n"
     ]
    }
   ],
   "source": [
    "print(type(ice_cream_rating))\n",
    "print(type(first_name))\n",
    "print(type(happiness_rating))"
   ]
  },
  {
   "cell_type": "markdown",
   "id": "71841d4b-f3a7-4694-aad4-ece43df36338",
   "metadata": {},
   "source": [
    "Задача 5"
   ]
  },
  {
   "cell_type": "code",
   "execution_count": 5,
   "id": "f586ee68-e1bb-4360-97d2-410aeb967a33",
   "metadata": {
    "tags": []
   },
   "outputs": [
    {
     "name": "stdout",
     "output_type": "stream",
     "text": [
      "Меня зовут Коля, и я ставлю мороженому 5 баллов из 10!\n",
      "Я Коля Матвеев, и мой рейтинг удовольствия от сна — 3 из 10!\n",
      "Исходя из вышеперечисленных факторов, мой рейтинг счастья составляет 4.0 из 10, или 40.0%!\n"
     ]
    }
   ],
   "source": [
    "print(F\"Меня зовут {first_name}, и я ставлю мороженому {ice_cream_rating} баллов из 10!\")\n",
    "print(F\"Я {my_name}, и мой рейтинг удовольствия от сна — {sleep_rating} из 10!\")\n",
    "print(F\"Исходя из вышеперечисленных факторов, мой рейтинг счастья составляет {happiness_rating} из 10, или {happiness_rating * 10}%!\")"
   ]
  }
 ],
 "metadata": {
  "kernelspec": {
   "display_name": "Python 3 (ipykernel)",
   "language": "python",
   "name": "python3"
  },
  "language_info": {
   "codemirror_mode": {
    "name": "ipython",
    "version": 3
   },
   "file_extension": ".py",
   "mimetype": "text/x-python",
   "name": "python",
   "nbconvert_exporter": "python",
   "pygments_lexer": "ipython3",
   "version": "3.11.5"
  }
 },
 "nbformat": 4,
 "nbformat_minor": 5
}

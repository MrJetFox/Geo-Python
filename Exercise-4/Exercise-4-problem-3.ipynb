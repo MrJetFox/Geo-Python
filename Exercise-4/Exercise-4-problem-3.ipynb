{
 "cells": [
  {
   "cell_type": "markdown",
   "metadata": {
    "deletable": false,
    "editable": false,
    "nbgrader": {
     "cell_type": "markdown",
     "checksum": "0bc1079e2926ca65fc81bbae190154c7",
     "grade": false,
     "grade_id": "cell-db10a919018a5c73",
     "locked": true,
     "schema_version": 3,
     "solution": false
    }
   },
   "source": [
    "## Problem 3 - Applying the classifier (4 points)\n",
    "\n",
    "Finally, we can bring together the pieces that we have created in problems 1 and 2. Here, your aim is to take\n",
    "advantage of your new functions and sort a dataset of temperatures in Fahrenheit into four different classes.\n",
    "\n",
    "### Tips for completing this problem\n",
    "\n",
    "- Use **exactly** the same variable names as in the instructions because your answers will be automatically graded, and the tests that grade your answers rely on following the same formatting or variable naming as in the instructions.\n",
    "- **Please do not**:\n",
    "\n",
    "    - **Change the file names**. Do all of your editing in the provided `Exercise-4-problem-3.ipynb` file (this file).\n",
    "    - **Copy/paste cells in this notebook**. We use an automated grading system that will fail if there are copies of code cells.\n",
    "    - **Change the existing cell types**. You can add cells, but changing the cell types for existing cells (from code to markdown, for example) will also cause the automated grader to fail.\n",
    "\n",
    "### Scores for this problem\n",
    "\n",
    "**Your score on this problem will be based on following criteria:**\n",
    "\n",
    "- Creating a new **script** file called `temp_functions.py` with the functions that you wrote in Problems 1 and 2\n",
    "- Including a docstring in the script file\n",
    "- Converting and classifying the list of temperatures in Part 2\n",
    "- Storing the number of temperatures in each class in the specified variables\n",
    "- Answering some questions at the end of this problem\n",
    "- Uploading your notebook to your GitHub repository for this week's exercise"
   ]
  },
  {
   "cell_type": "markdown",
   "metadata": {
    "deletable": false,
    "editable": false,
    "nbgrader": {
     "cell_type": "markdown",
     "checksum": "77b2a4701d93a18057b30b7160d948d0",
     "grade": false,
     "grade_id": "cell-f5cc86231ca34574",
     "locked": true,
     "schema_version": 3,
     "solution": false,
     "task": false
    },
    "tags": []
   },
   "source": [
    "## AI tool usage agreement\n",
    "\n",
    "**Enter your name (and that of your partner) in the cell below** to confirm that you have followed the [course guidelines on the use of AI tools](https://geo-python-site.readthedocs.io/en/latest/course-info/ai-tools.html) and understand that misuse of AI tools is considered cheating."
   ]
  },
  {
   "cell_type": "markdown",
   "metadata": {
    "deletable": false,
    "nbgrader": {
     "cell_type": "markdown",
     "checksum": "3090fba9f72304689d8c682c81c3290e",
     "grade": true,
     "grade_id": "E4-P3-AI-LLM_statement",
     "locked": false,
     "points": 0,
     "schema_version": 3,
     "solution": true,
     "task": false
    },
    "tags": []
   },
   "source": [
    "Матвеев Николай"
   ]
  },
  {
   "cell_type": "markdown",
   "metadata": {
    "deletable": false,
    "editable": false,
    "nbgrader": {
     "cell_type": "markdown",
     "checksum": "52a0b82df9e98c516eab48e436003f23",
     "grade": false,
     "grade_id": "cell-6a4973fcfb50801a",
     "locked": true,
     "schema_version": 3,
     "solution": false,
     "task": false
    }
   },
   "source": [
    "### Part 1: Creating a script file (1 point)\n",
    "\n",
    "For this part you should\n",
    "\n",
    "- Create a new **script file** called `temp_functions.py` in your `exercise-4-username` directory as we saw in the [Lesson 4 materials](https://geo-python-site.readthedocs.io/en/latest/notebooks/L4/script-files.html). Copy and paste the functions that you wrote in Problems 1 and 2 into that script file (i.e., the `fahr_to_celsius` and `temp_classifier` functions)\n",
    "    - You **do not** need to copy the `ai_temp_classifier` function if you created one in Problem 2\n",
    "- Add a docstring to the script file (in addition to the separate docstrings in the functions)\n",
    "- Save the script file and continue working in **this** Notebook (i.e., `Exercise-4-problem-3.ipynb`)"
   ]
  },
  {
   "cell_type": "markdown",
   "metadata": {
    "deletable": false,
    "editable": false,
    "nbgrader": {
     "cell_type": "markdown",
     "checksum": "60d0a4147b49e62e90a617c207861002",
     "grade": false,
     "grade_id": "cell-4f1cb14312eab537",
     "locked": true,
     "schema_version": 3,
     "solution": false,
     "task": false
    }
   },
   "source": [
    "### Part 2: Convert Fahrenheit temperatures to Celsius (3 points)\n",
    "\n",
    "For this part you should\n",
    "\n",
    "1. Store the Fahrenheit temperatures below into the list `temp_data` (just execute the existing code cell below)."
   ]
  },
  {
   "cell_type": "code",
   "execution_count": 23,
   "metadata": {
    "deletable": false,
    "editable": false,
    "nbgrader": {
     "cell_type": "code",
     "checksum": "527c7a80fc38eb978791e1087bb92b3a",
     "grade": false,
     "grade_id": "data",
     "locked": true,
     "schema_version": 3,
     "solution": false
    }
   },
   "outputs": [],
   "source": [
    "# List of half-hourly temperature values (in degrees Fahrenheit) for one week\n",
    "temp_data =  [19, 21, 21, 21, 23, 23, 23, 21, 19, 21, 19, 21, 23, 27, 27, 28, 30, 30, 32, 32, 32, 32, \n",
    "              34, 34, 34, 36, 36, 36, 36, 36, 36, 34, 34, 34, 34, 34, 34, 32, 30, 30, 30, 28, 28, 27,\n",
    "              27, 27, 23, 23, 21, 21, 21, 19, 19, 19, 18, 18, 21, 27, 28, 30, 32, 34, 36, 37, 37, 37, \n",
    "              39, 39, 39, 39, 39, 39, 41, 41, 41, 41, 41, 39, 39, 37, 37, 36, 36, 34, 34, 32, 30, 30,\n",
    "              28, 27, 27, 25, 23, 23, 21, 21, 19, 19, 19, 18, 18, 18, 21, 25, 27, 28, 34, 34, 41, 37, \n",
    "              37, 39, 39, 39, 39, 41, 41, 39, 39, 39, 39, 39, 41, 39, 39, 39, 37, 36, 34, 32, 28, 28,\n",
    "              27, 25, 25, 25, 23, 23, 23, 23, 21, 21, 21, 21, 19, 21, 19, 21, 21, 19, 21, 27, 28, 32,\n",
    "              36, 36, 37, 39, 39, 39, 39, 39, 41, 41, 41, 41, 41, 41, 41, 41, 41, 39, 37, 36, 36, 34,\n",
    "              32, 30, 28, 28, 27, 27, 25, 25, 23, 23, 23, 21, 21, 21, 19, 19, 19, 19, 19, 19, 21, 23,\n",
    "              23, 23, 25, 27, 30, 36, 37, 37, 39, 39, 41, 41, 41, 39, 39, 41, 43, 43, 43, 43, 43, 43,\n",
    "              43, 43, 43, 39, 37, 37, 37, 36, 36, 36, 36, 34, 32, 32, 32, 32, 30, 30, 28, 28, 28, 27,\n",
    "              27, 27, 27, 25, 27, 27, 27, 28, 28, 28, 30, 32, 32, 32, 34, 34, 36, 36, 36, 37, 37, 37,\n",
    "              37, 37, 37, 37, 37, 37, 36, 34, 30, 30, 27, 27, 25, 25, 23, 21, 21, 21, 21, 19, 19, 19,\n",
    "              19, 19, 18, 18, 18, 18, 18, 19, 23, 27, 30, 32, 32, 32, 32, 32, 32, 34, 34, 34, 34, 34,\n",
    "              36, 36, 36, 36, 36, 32, 32, 32, 32, 32, 32, 32, 32, 30, 30, 30, 30, 30, 30, 30, 30, 30,\n",
    "              30, 30, 30, 30, 28, 28]"
   ]
  },
  {
   "cell_type": "markdown",
   "metadata": {
    "deletable": false,
    "editable": false,
    "nbgrader": {
     "cell_type": "markdown",
     "checksum": "eae8a81388ee647a15947be1cd2b2098",
     "grade": false,
     "grade_id": "cell-2affd0ad8ec6bc82",
     "locked": true,
     "schema_version": 3,
     "solution": false
    }
   },
   "source": [
    "#### Part 2 (continues)\n",
    "\n",
    "2. Import the `fahr_to_celsius` and `temp_classifier` functions from your `temp_functions.py` script\n",
    "3. Create an empty list called `temp_classes` (which will be filled with temperature class numbers later)\n",
    "4. **Convert the Fahrenheit temperatures** in the `temp_data` list into Celsius and **classify the Celsius temperatures** using the importend functions. The output should be stored in the `temp_classes` list.\n",
    " \n",
    "    **You can do the temperature conversion and classification inside one for loop:**\n",
    "\n",
    "    - Iterate over the list of Fahrenheit temperatures (i.e., create a `for` loop), and inside the loop:\n",
    "\n",
    "        1. Create a new variable called `temp_celsius` in which you assign the temperature in Celsius using the `fahr_to_celsius` function to convert the Fahrenheit temperature into Celsius\n",
    "        2. Create a new variable called `temp_class` in which you assign the temperature class number (0, 1, 2, or 3) using the `temp_classifier` function\n",
    "        3. Add the `temp_class` value to the `temp_classes` list"
   ]
  },
  {
   "cell_type": "code",
   "execution_count": 24,
   "metadata": {
    "deletable": false,
    "nbgrader": {
     "cell_type": "code",
     "checksum": "8133a38c76a2027a71051d147731fa9a",
     "grade": false,
     "grade_id": "problem_3_ag_p2_functions_usage",
     "locked": false,
     "schema_version": 3,
     "solution": true
    }
   },
   "outputs": [
    {
     "name": "stdout",
     "output_type": "stream",
     "text": [
      "[-7.222222222222222, -6.111111111111111, -6.111111111111111, -6.111111111111111, -5.0, -5.0, -5.0, -6.111111111111111, -7.222222222222222, -6.111111111111111, -7.222222222222222, -6.111111111111111, -5.0, -2.7777777777777777, -2.7777777777777777, -2.2222222222222223, -1.1111111111111112, -1.1111111111111112, 0.0, 0.0, 0.0, 0.0, 1.1111111111111112, 1.1111111111111112, 1.1111111111111112, 2.2222222222222223, 2.2222222222222223, 2.2222222222222223, 2.2222222222222223, 2.2222222222222223, 2.2222222222222223, 1.1111111111111112, 1.1111111111111112, 1.1111111111111112, 1.1111111111111112, 1.1111111111111112, 1.1111111111111112, 0.0, -1.1111111111111112, -1.1111111111111112, -1.1111111111111112, -2.2222222222222223, -2.2222222222222223, -2.7777777777777777, -2.7777777777777777, -2.7777777777777777, -5.0, -5.0, -6.111111111111111, -6.111111111111111, -6.111111111111111, -7.222222222222222, -7.222222222222222, -7.222222222222222, -7.777777777777778, -7.777777777777778, -6.111111111111111, -2.7777777777777777, -2.2222222222222223, -1.1111111111111112, 0.0, 1.1111111111111112, 2.2222222222222223, 2.7777777777777777, 2.7777777777777777, 2.7777777777777777, 3.888888888888889, 3.888888888888889, 3.888888888888889, 3.888888888888889, 3.888888888888889, 3.888888888888889, 5.0, 5.0, 5.0, 5.0, 5.0, 3.888888888888889, 3.888888888888889, 2.7777777777777777, 2.7777777777777777, 2.2222222222222223, 2.2222222222222223, 1.1111111111111112, 1.1111111111111112, 0.0, -1.1111111111111112, -1.1111111111111112, -2.2222222222222223, -2.7777777777777777, -2.7777777777777777, -3.888888888888889, -5.0, -5.0, -6.111111111111111, -6.111111111111111, -7.222222222222222, -7.222222222222222, -7.222222222222222, -7.777777777777778, -7.777777777777778, -7.777777777777778, -6.111111111111111, -3.888888888888889, -2.7777777777777777, -2.2222222222222223, 1.1111111111111112, 1.1111111111111112, 5.0, 2.7777777777777777, 2.7777777777777777, 3.888888888888889, 3.888888888888889, 3.888888888888889, 3.888888888888889, 5.0, 5.0, 3.888888888888889, 3.888888888888889, 3.888888888888889, 3.888888888888889, 3.888888888888889, 5.0, 3.888888888888889, 3.888888888888889, 3.888888888888889, 2.7777777777777777, 2.2222222222222223, 1.1111111111111112, 0.0, -2.2222222222222223, -2.2222222222222223, -2.7777777777777777, -3.888888888888889, -3.888888888888889, -3.888888888888889, -5.0, -5.0, -5.0, -5.0, -6.111111111111111, -6.111111111111111, -6.111111111111111, -6.111111111111111, -7.222222222222222, -6.111111111111111, -7.222222222222222, -6.111111111111111, -6.111111111111111, -7.222222222222222, -6.111111111111111, -2.7777777777777777, -2.2222222222222223, 0.0, 2.2222222222222223, 2.2222222222222223, 2.7777777777777777, 3.888888888888889, 3.888888888888889, 3.888888888888889, 3.888888888888889, 3.888888888888889, 5.0, 5.0, 5.0, 5.0, 5.0, 5.0, 5.0, 5.0, 5.0, 3.888888888888889, 2.7777777777777777, 2.2222222222222223, 2.2222222222222223, 1.1111111111111112, 0.0, -1.1111111111111112, -2.2222222222222223, -2.2222222222222223, -2.7777777777777777, -2.7777777777777777, -3.888888888888889, -3.888888888888889, -5.0, -5.0, -5.0, -6.111111111111111, -6.111111111111111, -6.111111111111111, -7.222222222222222, -7.222222222222222, -7.222222222222222, -7.222222222222222, -7.222222222222222, -7.222222222222222, -6.111111111111111, -5.0, -5.0, -5.0, -3.888888888888889, -2.7777777777777777, -1.1111111111111112, 2.2222222222222223, 2.7777777777777777, 2.7777777777777777, 3.888888888888889, 3.888888888888889, 5.0, 5.0, 5.0, 3.888888888888889, 3.888888888888889, 5.0, 6.111111111111111, 6.111111111111111, 6.111111111111111, 6.111111111111111, 6.111111111111111, 6.111111111111111, 6.111111111111111, 6.111111111111111, 6.111111111111111, 3.888888888888889, 2.7777777777777777, 2.7777777777777777, 2.7777777777777777, 2.2222222222222223, 2.2222222222222223, 2.2222222222222223, 2.2222222222222223, 1.1111111111111112, 0.0, 0.0, 0.0, 0.0, -1.1111111111111112, -1.1111111111111112, -2.2222222222222223, -2.2222222222222223, -2.2222222222222223, -2.7777777777777777, -2.7777777777777777, -2.7777777777777777, -2.7777777777777777, -3.888888888888889, -2.7777777777777777, -2.7777777777777777, -2.7777777777777777, -2.2222222222222223, -2.2222222222222223, -2.2222222222222223, -1.1111111111111112, 0.0, 0.0, 0.0, 1.1111111111111112, 1.1111111111111112, 2.2222222222222223, 2.2222222222222223, 2.2222222222222223, 2.7777777777777777, 2.7777777777777777, 2.7777777777777777, 2.7777777777777777, 2.7777777777777777, 2.7777777777777777, 2.7777777777777777, 2.7777777777777777, 2.7777777777777777, 2.2222222222222223, 1.1111111111111112, -1.1111111111111112, -1.1111111111111112, -2.7777777777777777, -2.7777777777777777, -3.888888888888889, -3.888888888888889, -5.0, -6.111111111111111, -6.111111111111111, -6.111111111111111, -6.111111111111111, -7.222222222222222, -7.222222222222222, -7.222222222222222, -7.222222222222222, -7.222222222222222, -7.777777777777778, -7.777777777777778, -7.777777777777778, -7.777777777777778, -7.777777777777778, -7.222222222222222, -5.0, -2.7777777777777777, -1.1111111111111112, 0.0, 0.0, 0.0, 0.0, 0.0, 0.0, 1.1111111111111112, 1.1111111111111112, 1.1111111111111112, 1.1111111111111112, 1.1111111111111112, 2.2222222222222223, 2.2222222222222223, 2.2222222222222223, 2.2222222222222223, 2.2222222222222223, 0.0, 0.0, 0.0, 0.0, 0.0, 0.0, 0.0, 0.0, -1.1111111111111112, -1.1111111111111112, -1.1111111111111112, -1.1111111111111112, -1.1111111111111112, -1.1111111111111112, -1.1111111111111112, -1.1111111111111112, -1.1111111111111112, -1.1111111111111112, -1.1111111111111112, -1.1111111111111112, -1.1111111111111112, -2.2222222222222223, -2.2222222222222223]\n",
      "[[0, -7.222222222222222], [0, -6.111111111111111], [0, -6.111111111111111], [0, -6.111111111111111], [0, -5.0], [0, -5.0], [0, -5.0], [0, -6.111111111111111], [0, -7.222222222222222], [0, -6.111111111111111], [0, -7.222222222222222], [0, -6.111111111111111], [0, -5.0], [0, -2.7777777777777777], [0, -2.7777777777777777], [0, -2.2222222222222223], [1, -1.1111111111111112], [1, -1.1111111111111112], [1, 0.0], [1, 0.0], [1, 0.0], [1, 0.0], [1, 1.1111111111111112], [1, 1.1111111111111112], [1, 1.1111111111111112], [2, 2.2222222222222223], [2, 2.2222222222222223], [2, 2.2222222222222223], [2, 2.2222222222222223], [2, 2.2222222222222223], [2, 2.2222222222222223], [1, 1.1111111111111112], [1, 1.1111111111111112], [1, 1.1111111111111112], [1, 1.1111111111111112], [1, 1.1111111111111112], [1, 1.1111111111111112], [1, 0.0], [1, -1.1111111111111112], [1, -1.1111111111111112], [1, -1.1111111111111112], [0, -2.2222222222222223], [0, -2.2222222222222223], [0, -2.7777777777777777], [0, -2.7777777777777777], [0, -2.7777777777777777], [0, -5.0], [0, -5.0], [0, -6.111111111111111], [0, -6.111111111111111], [0, -6.111111111111111], [0, -7.222222222222222], [0, -7.222222222222222], [0, -7.222222222222222], [0, -7.777777777777778], [0, -7.777777777777778], [0, -6.111111111111111], [0, -2.7777777777777777], [0, -2.2222222222222223], [1, -1.1111111111111112], [1, 0.0], [1, 1.1111111111111112], [2, 2.2222222222222223], [2, 2.7777777777777777], [2, 2.7777777777777777], [2, 2.7777777777777777], [2, 3.888888888888889], [2, 3.888888888888889], [2, 3.888888888888889], [2, 3.888888888888889], [2, 3.888888888888889], [2, 3.888888888888889], [2, 5.0], [2, 5.0], [2, 5.0], [2, 5.0], [2, 5.0], [2, 3.888888888888889], [2, 3.888888888888889], [2, 2.7777777777777777], [2, 2.7777777777777777], [2, 2.2222222222222223], [2, 2.2222222222222223], [1, 1.1111111111111112], [1, 1.1111111111111112], [1, 0.0], [1, -1.1111111111111112], [1, -1.1111111111111112], [0, -2.2222222222222223], [0, -2.7777777777777777], [0, -2.7777777777777777], [0, -3.888888888888889], [0, -5.0], [0, -5.0], [0, -6.111111111111111], [0, -6.111111111111111], [0, -7.222222222222222], [0, -7.222222222222222], [0, -7.222222222222222], [0, -7.777777777777778], [0, -7.777777777777778], [0, -7.777777777777778], [0, -6.111111111111111], [0, -3.888888888888889], [0, -2.7777777777777777], [0, -2.2222222222222223], [1, 1.1111111111111112], [1, 1.1111111111111112], [2, 5.0], [2, 2.7777777777777777], [2, 2.7777777777777777], [2, 3.888888888888889], [2, 3.888888888888889], [2, 3.888888888888889], [2, 3.888888888888889], [2, 5.0], [2, 5.0], [2, 3.888888888888889], [2, 3.888888888888889], [2, 3.888888888888889], [2, 3.888888888888889], [2, 3.888888888888889], [2, 5.0], [2, 3.888888888888889], [2, 3.888888888888889], [2, 3.888888888888889], [2, 2.7777777777777777], [2, 2.2222222222222223], [1, 1.1111111111111112], [1, 0.0], [0, -2.2222222222222223], [0, -2.2222222222222223], [0, -2.7777777777777777], [0, -3.888888888888889], [0, -3.888888888888889], [0, -3.888888888888889], [0, -5.0], [0, -5.0], [0, -5.0], [0, -5.0], [0, -6.111111111111111], [0, -6.111111111111111], [0, -6.111111111111111], [0, -6.111111111111111], [0, -7.222222222222222], [0, -6.111111111111111], [0, -7.222222222222222], [0, -6.111111111111111], [0, -6.111111111111111], [0, -7.222222222222222], [0, -6.111111111111111], [0, -2.7777777777777777], [0, -2.2222222222222223], [1, 0.0], [2, 2.2222222222222223], [2, 2.2222222222222223], [2, 2.7777777777777777], [2, 3.888888888888889], [2, 3.888888888888889], [2, 3.888888888888889], [2, 3.888888888888889], [2, 3.888888888888889], [2, 5.0], [2, 5.0], [2, 5.0], [2, 5.0], [2, 5.0], [2, 5.0], [2, 5.0], [2, 5.0], [2, 5.0], [2, 3.888888888888889], [2, 2.7777777777777777], [2, 2.2222222222222223], [2, 2.2222222222222223], [1, 1.1111111111111112], [1, 0.0], [1, -1.1111111111111112], [0, -2.2222222222222223], [0, -2.2222222222222223], [0, -2.7777777777777777], [0, -2.7777777777777777], [0, -3.888888888888889], [0, -3.888888888888889], [0, -5.0], [0, -5.0], [0, -5.0], [0, -6.111111111111111], [0, -6.111111111111111], [0, -6.111111111111111], [0, -7.222222222222222], [0, -7.222222222222222], [0, -7.222222222222222], [0, -7.222222222222222], [0, -7.222222222222222], [0, -7.222222222222222], [0, -6.111111111111111], [0, -5.0], [0, -5.0], [0, -5.0], [0, -3.888888888888889], [0, -2.7777777777777777], [1, -1.1111111111111112], [2, 2.2222222222222223], [2, 2.7777777777777777], [2, 2.7777777777777777], [2, 3.888888888888889], [2, 3.888888888888889], [2, 5.0], [2, 5.0], [2, 5.0], [2, 3.888888888888889], [2, 3.888888888888889], [2, 5.0], [2, 6.111111111111111], [2, 6.111111111111111], [2, 6.111111111111111], [2, 6.111111111111111], [2, 6.111111111111111], [2, 6.111111111111111], [2, 6.111111111111111], [2, 6.111111111111111], [2, 6.111111111111111], [2, 3.888888888888889], [2, 2.7777777777777777], [2, 2.7777777777777777], [2, 2.7777777777777777], [2, 2.2222222222222223], [2, 2.2222222222222223], [2, 2.2222222222222223], [2, 2.2222222222222223], [1, 1.1111111111111112], [1, 0.0], [1, 0.0], [1, 0.0], [1, 0.0], [1, -1.1111111111111112], [1, -1.1111111111111112], [0, -2.2222222222222223], [0, -2.2222222222222223], [0, -2.2222222222222223], [0, -2.7777777777777777], [0, -2.7777777777777777], [0, -2.7777777777777777], [0, -2.7777777777777777], [0, -3.888888888888889], [0, -2.7777777777777777], [0, -2.7777777777777777], [0, -2.7777777777777777], [0, -2.2222222222222223], [0, -2.2222222222222223], [0, -2.2222222222222223], [1, -1.1111111111111112], [1, 0.0], [1, 0.0], [1, 0.0], [1, 1.1111111111111112], [1, 1.1111111111111112], [2, 2.2222222222222223], [2, 2.2222222222222223], [2, 2.2222222222222223], [2, 2.7777777777777777], [2, 2.7777777777777777], [2, 2.7777777777777777], [2, 2.7777777777777777], [2, 2.7777777777777777], [2, 2.7777777777777777], [2, 2.7777777777777777], [2, 2.7777777777777777], [2, 2.7777777777777777], [2, 2.2222222222222223], [1, 1.1111111111111112], [1, -1.1111111111111112], [1, -1.1111111111111112], [0, -2.7777777777777777], [0, -2.7777777777777777], [0, -3.888888888888889], [0, -3.888888888888889], [0, -5.0], [0, -6.111111111111111], [0, -6.111111111111111], [0, -6.111111111111111], [0, -6.111111111111111], [0, -7.222222222222222], [0, -7.222222222222222], [0, -7.222222222222222], [0, -7.222222222222222], [0, -7.222222222222222], [0, -7.777777777777778], [0, -7.777777777777778], [0, -7.777777777777778], [0, -7.777777777777778], [0, -7.777777777777778], [0, -7.222222222222222], [0, -5.0], [0, -2.7777777777777777], [1, -1.1111111111111112], [1, 0.0], [1, 0.0], [1, 0.0], [1, 0.0], [1, 0.0], [1, 0.0], [1, 1.1111111111111112], [1, 1.1111111111111112], [1, 1.1111111111111112], [1, 1.1111111111111112], [1, 1.1111111111111112], [2, 2.2222222222222223], [2, 2.2222222222222223], [2, 2.2222222222222223], [2, 2.2222222222222223], [2, 2.2222222222222223], [1, 0.0], [1, 0.0], [1, 0.0], [1, 0.0], [1, 0.0], [1, 0.0], [1, 0.0], [1, 0.0], [1, -1.1111111111111112], [1, -1.1111111111111112], [1, -1.1111111111111112], [1, -1.1111111111111112], [1, -1.1111111111111112], [1, -1.1111111111111112], [1, -1.1111111111111112], [1, -1.1111111111111112], [1, -1.1111111111111112], [1, -1.1111111111111112], [1, -1.1111111111111112], [1, -1.1111111111111112], [1, -1.1111111111111112], [0, -2.2222222222222223], [0, -2.2222222222222223]]\n"
     ]
    }
   ],
   "source": [
    "from temp_functions import *\n",
    "temp_celsius = []\n",
    "temp_classes = [] \n",
    "for i in temp_data:\n",
    "    temp_celsius.append(fahr_to_celsius(i))\n",
    "print (temp_celsius)\n",
    "for j in range(len(temp_celsius)):\n",
    "    temp_class = []\n",
    "    temp_class.append(temp_classifier(temp_celsius[j]))\n",
    "    temp_class.append(temp_celsius[j])\n",
    "    temp_classes.append(temp_class)\n",
    "print (temp_classes)\n",
    "# Я не до конца понял 3 пункт, поэтому добавил список в список,\n",
    "# аналогично тому решению, которое описано в задании-3"
   ]
  },
  {
   "cell_type": "markdown",
   "metadata": {
    "deletable": false,
    "editable": false,
    "nbgrader": {
     "cell_type": "markdown",
     "checksum": "6726c38d06de03ed8e2a0b686a1068ed",
     "grade": false,
     "grade_id": "cell-aac56115e51f1ecd",
     "locked": true,
     "schema_version": 3,
     "solution": false
    }
   },
   "source": [
    "#### Part 2 (continues)\n",
    "\n",
    "6. Calculate how many temperatures there are in each temperature class:\n",
    "\n",
    "    1. Create four variables called `zeros`, `ones`, `twos`, and `threes` \n",
    "    2. Count and assign to each variable how many times values 0, 1, 2, and 3 are present in the `temp_classes` list and print out the results below. In other words, assign the value of how many time `0` is in the list to the variable `zeros`, and so on. \n",
    "  \n",
    "**TIP**: You might want to consider using the [**count()** function](https://www.tutorialspoint.com/python3/list_count.htm) OR a for loop for this."
   ]
  },
  {
   "cell_type": "code",
   "execution_count": 25,
   "metadata": {},
   "outputs": [
    {
     "name": "stdout",
     "output_type": "stream",
     "text": [
      "137\n",
      "85\n",
      "114\n",
      "336\n"
     ]
    }
   ],
   "source": [
    "zeros = 0 \n",
    "ones = 0\n",
    "twos = 0 \n",
    "threes = 0\n",
    "for k in range(len(temp_classes)):\n",
    "    if (temp_classes[k])[0] == 0:\n",
    "        zeros += 1\n",
    "    elif (temp_classes[k])[0] == 1:\n",
    "        ones += 1\n",
    "    elif (temp_classes[k])[0] == 2:\n",
    "        twos += 1\n",
    "    else: (temp_classes[k])[0] == 3\n",
    "    threes += 1\n",
    "# 1. How many 0 values exist in the temp_classes list?\n",
    "print(zeros)\n",
    "\n",
    "# 2. How many 1 values exist in the temp_classes list?\n",
    "print(ones)\n",
    "\n",
    "# 3. How many 2 values exist in the temp_classes list?\n",
    "print(twos)\n",
    "\n",
    "# 4. How many 3 values exist in the temp_classes list?\n",
    "print(threes)\n"
   ]
  },
  {
   "cell_type": "markdown",
   "metadata": {
    "deletable": false,
    "editable": false,
    "nbgrader": {
     "cell_type": "markdown",
     "checksum": "ddd25e715a7fbfc0d6b963598591c849",
     "grade": false,
     "grade_id": "cell-79b5c140053f3880",
     "locked": true,
     "schema_version": 3,
     "solution": false,
     "task": false
    }
   },
   "source": [
    "### Problem 3 tests\n",
    "\n",
    "Run the code cells below to check your answer. Note that you are not able to modify the test cells. Your solution is on the right track if you don't see any errors when running these code cells."
   ]
  },
  {
   "cell_type": "code",
   "execution_count": 26,
   "metadata": {
    "deletable": false,
    "editable": false,
    "nbgrader": {
     "cell_type": "code",
     "checksum": "118544a6b7b7cdcf717650653a093169",
     "grade": true,
     "grade_id": "problem_3_ag_p2_functions_usage_test1",
     "locked": true,
     "points": 0.5,
     "schema_version": 3,
     "solution": false
    }
   },
   "outputs": [],
   "source": [
    "import inspect\n",
    "\n",
    "# Check that functions are in the namespace\n",
    "assert inspect.isfunction(fahr_to_celsius)\n",
    "assert inspect.isfunction(temp_classifier)"
   ]
  },
  {
   "cell_type": "code",
   "execution_count": 27,
   "metadata": {
    "deletable": false,
    "editable": false,
    "nbgrader": {
     "cell_type": "code",
     "checksum": "e3130bde97d086a2c7918087b274234c",
     "grade": true,
     "grade_id": "problem_3_ag_p2_functions_usage_test2",
     "locked": true,
     "points": 0.5,
     "schema_version": 3,
     "solution": false
    }
   },
   "outputs": [],
   "source": [
    "# Check that variable has been created\n",
    "assert 'temp_celsius' in locals()\n",
    "assert 'temp_class' in locals()\n",
    "assert 'temp_classes' in locals()\n",
    "\n",
    "# Check that temp_classes is a list\n",
    "assert type(temp_classes) == list"
   ]
  },
  {
   "cell_type": "code",
   "execution_count": 28,
   "metadata": {
    "deletable": false,
    "editable": false,
    "nbgrader": {
     "cell_type": "code",
     "checksum": "a768a73d41e0c9fcbd5a6d99b63cb381",
     "grade": true,
     "grade_id": "problem_3_ag_p2_functions_usage_test3",
     "locked": true,
     "points": 0.5,
     "schema_version": 3,
     "solution": false
    }
   },
   "outputs": [],
   "source": [
    "# Check that the functions have a single parameter\n",
    "t_params = list(inspect.signature(temp_classifier).parameters.keys())\n",
    "f_params = list(inspect.signature(fahr_to_celsius).parameters.keys())\n",
    "assert len(t_params) == 1\n",
    "assert len(f_params) == 1"
   ]
  },
  {
   "cell_type": "markdown",
   "metadata": {},
   "source": [
    "Check that required variables exists and print their value (check manually that the answers make sense!):"
   ]
  },
  {
   "cell_type": "code",
   "execution_count": 29,
   "metadata": {
    "deletable": false,
    "editable": false,
    "nbgrader": {
     "cell_type": "code",
     "checksum": "ff916942e233175aa7f97f9d22aae0a0",
     "grade": true,
     "grade_id": "problem_3_ag_p2_functions_usage_test4",
     "locked": true,
     "points": 0.5,
     "schema_version": 3,
     "solution": false
    }
   },
   "outputs": [
    {
     "name": "stdout",
     "output_type": "stream",
     "text": [
      "137\n"
     ]
    }
   ],
   "source": [
    "# Check the variable \"zeros\" \n",
    "assert 'zeros' in locals()\n",
    "print(zeros)"
   ]
  },
  {
   "cell_type": "code",
   "execution_count": 30,
   "metadata": {
    "deletable": false,
    "editable": false,
    "nbgrader": {
     "cell_type": "code",
     "checksum": "add9916c2128b2aeb765a43ba87d6b01",
     "grade": true,
     "grade_id": "problem_3_ag_p2_functions_usage_test5",
     "locked": true,
     "points": 0.5,
     "schema_version": 3,
     "solution": false
    }
   },
   "outputs": [
    {
     "name": "stdout",
     "output_type": "stream",
     "text": [
      "85\n"
     ]
    }
   ],
   "source": [
    "# Check the variable \"ones\" \n",
    "assert 'ones' in locals()\n",
    "print(ones)"
   ]
  },
  {
   "cell_type": "code",
   "execution_count": 31,
   "metadata": {
    "deletable": false,
    "editable": false,
    "nbgrader": {
     "cell_type": "code",
     "checksum": "f9be951cfe27eb0dd77653e2820d73a1",
     "grade": true,
     "grade_id": "problem_3_ag_p2_functions_usage_test6",
     "locked": true,
     "points": 0.5,
     "schema_version": 3,
     "solution": false
    }
   },
   "outputs": [
    {
     "name": "stdout",
     "output_type": "stream",
     "text": [
      "114\n"
     ]
    }
   ],
   "source": [
    "# Checkthe variable \"twos\" \n",
    "assert 'twos' in locals()\n",
    "print(twos)"
   ]
  },
  {
   "cell_type": "code",
   "execution_count": 32,
   "metadata": {
    "deletable": false,
    "editable": false,
    "nbgrader": {
     "cell_type": "code",
     "checksum": "49e371af5d127d9f95a6dd702a31ad8c",
     "grade": true,
     "grade_id": "problem_3_ag_p2_functions_usage_test7",
     "locked": true,
     "points": 0.5,
     "schema_version": 3,
     "solution": false
    }
   },
   "outputs": [
    {
     "name": "stdout",
     "output_type": "stream",
     "text": [
      "336\n"
     ]
    }
   ],
   "source": [
    "# Check the variable \"threes\" \n",
    "assert 'threes' in locals()\n",
    "print(threes)"
   ]
  },
  {
   "cell_type": "markdown",
   "metadata": {
    "deletable": false,
    "editable": false,
    "nbgrader": {
     "cell_type": "markdown",
     "checksum": "91ab61a6ff08efbc328481fe6e211609",
     "grade": false,
     "grade_id": "cell-b4a6387bf95866ff",
     "locked": true,
     "schema_version": 3,
     "solution": false
    }
   },
   "source": [
    "### Part 3: Check your code (0.5 points)\n",
    " \n",
    "- Запомните, чтобы проверить, что у вас были комментарии в ваш код и использовали требуемые имена переменных\n",
    "- Убедитесь, что ** совершить и подтолкнуть ** свой сценарий `temp_functions.py` в свой собственный репозиторий GitHub для упражнения 4!\n",
    "- Если у вас есть какие -либо мысли и проблемы на этом этапе, вы можете написать их ниже."
   ]
  },
  {
   "cell_type": "markdown",
   "metadata": {
    "deletable": false,
    "nbgrader": {
     "cell_type": "markdown",
     "checksum": "d245343c9f091b8810bee99b896f8db9",
     "grade": true,
     "grade_id": "problem_3_mg_p3_check_your_code",
     "locked": false,
     "points": 0.5,
     "schema_version": 3,
     "solution": true,
     "task": false
    }
   },
   "source": [
    "## <span style=\"color:blue\">Применение класса weather из прошлого задания.</span>\n",
    "\n",
    "Тут я просто показал, как можно сразу разбить нужные данные на \"красивый\" массив. Не могу судить о хорошей оптимизации (в том смысле, что была бы эта задача с time range, я бы скорее всего точно не использовал класс)"
   ]
  },
  {
   "cell_type": "markdown",
   "metadata": {},
   "source": [
    "Несмотря на то, что задание предполагает import функции из другого файла, я решил сразу указать\n",
    "тот же класс и отредактированные методы прям здесь (чтобы вы не переключались между файлами)."
   ]
  },
  {
   "cell_type": "code",
   "execution_count": 33,
   "metadata": {},
   "outputs": [
    {
     "name": "stdout",
     "output_type": "stream",
     "text": [
      "[[0, 'cold', -7.222222222222222], [0, 'cold', -6.111111111111111], [0, 'cold', -6.111111111111111], [0, 'cold', -6.111111111111111], [0, 'cold', -5.0], [0, 'cold', -5.0], [0, 'cold', -5.0], [0, 'cold', -6.111111111111111], [0, 'cold', -7.222222222222222], [0, 'cold', -6.111111111111111], [0, 'cold', -7.222222222222222], [0, 'cold', -6.111111111111111], [0, 'cold', -5.0], [0, 'cold', -2.7777777777777777], [0, 'cold', -2.7777777777777777], [0, 'cold', -2.2222222222222223], [1, 'slippery', -1.1111111111111112], [1, 'slippery', -1.1111111111111112], [1, 'slippery', 0.0], [1, 'slippery', 0.0], [1, 'slippery', 0.0], [1, 'slippery', 0.0], [1, 'slippery', 1.1111111111111112], [1, 'slippery', 1.1111111111111112], [1, 'slippery', 1.1111111111111112], [2, 'comfortable', 2.2222222222222223], [2, 'comfortable', 2.2222222222222223], [2, 'comfortable', 2.2222222222222223], [2, 'comfortable', 2.2222222222222223], [2, 'comfortable', 2.2222222222222223], [2, 'comfortable', 2.2222222222222223], [1, 'slippery', 1.1111111111111112], [1, 'slippery', 1.1111111111111112], [1, 'slippery', 1.1111111111111112], [1, 'slippery', 1.1111111111111112], [1, 'slippery', 1.1111111111111112], [1, 'slippery', 1.1111111111111112], [1, 'slippery', 0.0], [1, 'slippery', -1.1111111111111112], [1, 'slippery', -1.1111111111111112], [1, 'slippery', -1.1111111111111112], [0, 'cold', -2.2222222222222223], [0, 'cold', -2.2222222222222223], [0, 'cold', -2.7777777777777777], [0, 'cold', -2.7777777777777777], [0, 'cold', -2.7777777777777777], [0, 'cold', -5.0], [0, 'cold', -5.0], [0, 'cold', -6.111111111111111], [0, 'cold', -6.111111111111111], [0, 'cold', -6.111111111111111], [0, 'cold', -7.222222222222222], [0, 'cold', -7.222222222222222], [0, 'cold', -7.222222222222222], [0, 'cold', -7.777777777777778], [0, 'cold', -7.777777777777778], [0, 'cold', -6.111111111111111], [0, 'cold', -2.7777777777777777], [0, 'cold', -2.2222222222222223], [1, 'slippery', -1.1111111111111112], [1, 'slippery', 0.0], [1, 'slippery', 1.1111111111111112], [2, 'comfortable', 2.2222222222222223], [2, 'comfortable', 2.7777777777777777], [2, 'comfortable', 2.7777777777777777], [2, 'comfortable', 2.7777777777777777], [2, 'comfortable', 3.888888888888889], [2, 'comfortable', 3.888888888888889], [2, 'comfortable', 3.888888888888889], [2, 'comfortable', 3.888888888888889], [2, 'comfortable', 3.888888888888889], [2, 'comfortable', 3.888888888888889], [2, 'comfortable', 5.0], [2, 'comfortable', 5.0], [2, 'comfortable', 5.0], [2, 'comfortable', 5.0], [2, 'comfortable', 5.0], [2, 'comfortable', 3.888888888888889], [2, 'comfortable', 3.888888888888889], [2, 'comfortable', 2.7777777777777777], [2, 'comfortable', 2.7777777777777777], [2, 'comfortable', 2.2222222222222223], [2, 'comfortable', 2.2222222222222223], [1, 'slippery', 1.1111111111111112], [1, 'slippery', 1.1111111111111112], [1, 'slippery', 0.0], [1, 'slippery', -1.1111111111111112], [1, 'slippery', -1.1111111111111112], [0, 'cold', -2.2222222222222223], [0, 'cold', -2.7777777777777777], [0, 'cold', -2.7777777777777777], [0, 'cold', -3.888888888888889], [0, 'cold', -5.0], [0, 'cold', -5.0], [0, 'cold', -6.111111111111111], [0, 'cold', -6.111111111111111], [0, 'cold', -7.222222222222222], [0, 'cold', -7.222222222222222], [0, 'cold', -7.222222222222222], [0, 'cold', -7.777777777777778], [0, 'cold', -7.777777777777778], [0, 'cold', -7.777777777777778], [0, 'cold', -6.111111111111111], [0, 'cold', -3.888888888888889], [0, 'cold', -2.7777777777777777], [0, 'cold', -2.2222222222222223], [1, 'slippery', 1.1111111111111112], [1, 'slippery', 1.1111111111111112], [2, 'comfortable', 5.0], [2, 'comfortable', 2.7777777777777777], [2, 'comfortable', 2.7777777777777777], [2, 'comfortable', 3.888888888888889], [2, 'comfortable', 3.888888888888889], [2, 'comfortable', 3.888888888888889], [2, 'comfortable', 3.888888888888889], [2, 'comfortable', 5.0], [2, 'comfortable', 5.0], [2, 'comfortable', 3.888888888888889], [2, 'comfortable', 3.888888888888889], [2, 'comfortable', 3.888888888888889], [2, 'comfortable', 3.888888888888889], [2, 'comfortable', 3.888888888888889], [2, 'comfortable', 5.0], [2, 'comfortable', 3.888888888888889], [2, 'comfortable', 3.888888888888889], [2, 'comfortable', 3.888888888888889], [2, 'comfortable', 2.7777777777777777], [2, 'comfortable', 2.2222222222222223], [1, 'slippery', 1.1111111111111112], [1, 'slippery', 0.0], [0, 'cold', -2.2222222222222223], [0, 'cold', -2.2222222222222223], [0, 'cold', -2.7777777777777777], [0, 'cold', -3.888888888888889], [0, 'cold', -3.888888888888889], [0, 'cold', -3.888888888888889], [0, 'cold', -5.0], [0, 'cold', -5.0], [0, 'cold', -5.0], [0, 'cold', -5.0], [0, 'cold', -6.111111111111111], [0, 'cold', -6.111111111111111], [0, 'cold', -6.111111111111111], [0, 'cold', -6.111111111111111], [0, 'cold', -7.222222222222222], [0, 'cold', -6.111111111111111], [0, 'cold', -7.222222222222222], [0, 'cold', -6.111111111111111], [0, 'cold', -6.111111111111111], [0, 'cold', -7.222222222222222], [0, 'cold', -6.111111111111111], [0, 'cold', -2.7777777777777777], [0, 'cold', -2.2222222222222223], [1, 'slippery', 0.0], [2, 'comfortable', 2.2222222222222223], [2, 'comfortable', 2.2222222222222223], [2, 'comfortable', 2.7777777777777777], [2, 'comfortable', 3.888888888888889], [2, 'comfortable', 3.888888888888889], [2, 'comfortable', 3.888888888888889], [2, 'comfortable', 3.888888888888889], [2, 'comfortable', 3.888888888888889], [2, 'comfortable', 5.0], [2, 'comfortable', 5.0], [2, 'comfortable', 5.0], [2, 'comfortable', 5.0], [2, 'comfortable', 5.0], [2, 'comfortable', 5.0], [2, 'comfortable', 5.0], [2, 'comfortable', 5.0], [2, 'comfortable', 5.0], [2, 'comfortable', 3.888888888888889], [2, 'comfortable', 2.7777777777777777], [2, 'comfortable', 2.2222222222222223], [2, 'comfortable', 2.2222222222222223], [1, 'slippery', 1.1111111111111112], [1, 'slippery', 0.0], [1, 'slippery', -1.1111111111111112], [0, 'cold', -2.2222222222222223], [0, 'cold', -2.2222222222222223], [0, 'cold', -2.7777777777777777], [0, 'cold', -2.7777777777777777], [0, 'cold', -3.888888888888889], [0, 'cold', -3.888888888888889], [0, 'cold', -5.0], [0, 'cold', -5.0], [0, 'cold', -5.0], [0, 'cold', -6.111111111111111], [0, 'cold', -6.111111111111111], [0, 'cold', -6.111111111111111], [0, 'cold', -7.222222222222222], [0, 'cold', -7.222222222222222], [0, 'cold', -7.222222222222222], [0, 'cold', -7.222222222222222], [0, 'cold', -7.222222222222222], [0, 'cold', -7.222222222222222], [0, 'cold', -6.111111111111111], [0, 'cold', -5.0], [0, 'cold', -5.0], [0, 'cold', -5.0], [0, 'cold', -3.888888888888889], [0, 'cold', -2.7777777777777777], [1, 'slippery', -1.1111111111111112], [2, 'comfortable', 2.2222222222222223], [2, 'comfortable', 2.7777777777777777], [2, 'comfortable', 2.7777777777777777], [2, 'comfortable', 3.888888888888889], [2, 'comfortable', 3.888888888888889], [2, 'comfortable', 5.0], [2, 'comfortable', 5.0], [2, 'comfortable', 5.0], [2, 'comfortable', 3.888888888888889], [2, 'comfortable', 3.888888888888889], [2, 'comfortable', 5.0], [2, 'comfortable', 6.111111111111111], [2, 'comfortable', 6.111111111111111], [2, 'comfortable', 6.111111111111111], [2, 'comfortable', 6.111111111111111], [2, 'comfortable', 6.111111111111111], [2, 'comfortable', 6.111111111111111], [2, 'comfortable', 6.111111111111111], [2, 'comfortable', 6.111111111111111], [2, 'comfortable', 6.111111111111111], [2, 'comfortable', 3.888888888888889], [2, 'comfortable', 2.7777777777777777], [2, 'comfortable', 2.7777777777777777], [2, 'comfortable', 2.7777777777777777], [2, 'comfortable', 2.2222222222222223], [2, 'comfortable', 2.2222222222222223], [2, 'comfortable', 2.2222222222222223], [2, 'comfortable', 2.2222222222222223], [1, 'slippery', 1.1111111111111112], [1, 'slippery', 0.0], [1, 'slippery', 0.0], [1, 'slippery', 0.0], [1, 'slippery', 0.0], [1, 'slippery', -1.1111111111111112], [1, 'slippery', -1.1111111111111112], [0, 'cold', -2.2222222222222223], [0, 'cold', -2.2222222222222223], [0, 'cold', -2.2222222222222223], [0, 'cold', -2.7777777777777777], [0, 'cold', -2.7777777777777777], [0, 'cold', -2.7777777777777777], [0, 'cold', -2.7777777777777777], [0, 'cold', -3.888888888888889], [0, 'cold', -2.7777777777777777], [0, 'cold', -2.7777777777777777], [0, 'cold', -2.7777777777777777], [0, 'cold', -2.2222222222222223], [0, 'cold', -2.2222222222222223], [0, 'cold', -2.2222222222222223], [1, 'slippery', -1.1111111111111112], [1, 'slippery', 0.0], [1, 'slippery', 0.0], [1, 'slippery', 0.0], [1, 'slippery', 1.1111111111111112], [1, 'slippery', 1.1111111111111112], [2, 'comfortable', 2.2222222222222223], [2, 'comfortable', 2.2222222222222223], [2, 'comfortable', 2.2222222222222223], [2, 'comfortable', 2.7777777777777777], [2, 'comfortable', 2.7777777777777777], [2, 'comfortable', 2.7777777777777777], [2, 'comfortable', 2.7777777777777777], [2, 'comfortable', 2.7777777777777777], [2, 'comfortable', 2.7777777777777777], [2, 'comfortable', 2.7777777777777777], [2, 'comfortable', 2.7777777777777777], [2, 'comfortable', 2.7777777777777777], [2, 'comfortable', 2.2222222222222223], [1, 'slippery', 1.1111111111111112], [1, 'slippery', -1.1111111111111112], [1, 'slippery', -1.1111111111111112], [0, 'cold', -2.7777777777777777], [0, 'cold', -2.7777777777777777], [0, 'cold', -3.888888888888889], [0, 'cold', -3.888888888888889], [0, 'cold', -5.0], [0, 'cold', -6.111111111111111], [0, 'cold', -6.111111111111111], [0, 'cold', -6.111111111111111], [0, 'cold', -6.111111111111111], [0, 'cold', -7.222222222222222], [0, 'cold', -7.222222222222222], [0, 'cold', -7.222222222222222], [0, 'cold', -7.222222222222222], [0, 'cold', -7.222222222222222], [0, 'cold', -7.777777777777778], [0, 'cold', -7.777777777777778], [0, 'cold', -7.777777777777778], [0, 'cold', -7.777777777777778], [0, 'cold', -7.777777777777778], [0, 'cold', -7.222222222222222], [0, 'cold', -5.0], [0, 'cold', -2.7777777777777777], [1, 'slippery', -1.1111111111111112], [1, 'slippery', 0.0], [1, 'slippery', 0.0], [1, 'slippery', 0.0], [1, 'slippery', 0.0], [1, 'slippery', 0.0], [1, 'slippery', 0.0], [1, 'slippery', 1.1111111111111112], [1, 'slippery', 1.1111111111111112], [1, 'slippery', 1.1111111111111112], [1, 'slippery', 1.1111111111111112], [1, 'slippery', 1.1111111111111112], [2, 'comfortable', 2.2222222222222223], [2, 'comfortable', 2.2222222222222223], [2, 'comfortable', 2.2222222222222223], [2, 'comfortable', 2.2222222222222223], [2, 'comfortable', 2.2222222222222223], [1, 'slippery', 0.0], [1, 'slippery', 0.0], [1, 'slippery', 0.0], [1, 'slippery', 0.0], [1, 'slippery', 0.0], [1, 'slippery', 0.0], [1, 'slippery', 0.0], [1, 'slippery', 0.0], [1, 'slippery', -1.1111111111111112], [1, 'slippery', -1.1111111111111112], [1, 'slippery', -1.1111111111111112], [1, 'slippery', -1.1111111111111112], [1, 'slippery', -1.1111111111111112], [1, 'slippery', -1.1111111111111112], [1, 'slippery', -1.1111111111111112], [1, 'slippery', -1.1111111111111112], [1, 'slippery', -1.1111111111111112], [1, 'slippery', -1.1111111111111112], [1, 'slippery', -1.1111111111111112], [1, 'slippery', -1.1111111111111112], [1, 'slippery', -1.1111111111111112], [0, 'cold', -2.2222222222222223], [0, 'cold', -2.2222222222222223]]\n"
     ]
    }
   ],
   "source": [
    "class weather():\n",
    "    def __init__(self, temp_celsius, type_of_weather=None, value = None): \n",
    "        \"\"\"Класс для описания погоды по температуре\"\"\"\n",
    "        self.temp_celsius = temp_celsius\n",
    "        self.type_of_weather = type_of_weather\n",
    "        self.value = value\n",
    "\n",
    "    def classifier(self):\n",
    "        \"\"\"Присваивание индекса и типа погоды, в зависимости от температуры\"\"\"\n",
    "        if (self.temp_celsius) < -2: # Как и написано сверху - абсолютная копия из ex.3\n",
    "            #Однако добавил две строчки снизу\n",
    "            self.type_of_weather = \"cold\"\n",
    "            self.value = 0\n",
    "        elif (self.temp_celsius) >= -2 and self.temp_celsius<2:\n",
    "            self.type_of_weather = \"slippery\"\n",
    "            self.value = 1\n",
    "        elif self.temp_celsius  >= 2 and self.temp_celsius<15:\n",
    "            self.type_of_weather = \"comfortable\"\n",
    "            self.value = 2\n",
    "        elif self.temp_celsius >= 15:\n",
    "            self.type_of_weather = \"warm\"\n",
    "            self.value = 3\n",
    "def temp_classifier(temp_celsius): # Просто присваиваю число к классу, выполняю метод и \"вытаскиваю\" только индекс из класса\n",
    "    temp_celsius = weather(temp_celsius) #Указал класс\n",
    "    temp_celsius.classifier() #Выполнил метод\n",
    "    return [temp_celsius.value, temp_celsius.type_of_weather, temp_celsius.temp_celsius]\n",
    "#Прошу вернуть список в порядке: температура, тип погоды, индекс типа погоды\n",
    "\n",
    "temp_data =  [19, 21, 21, 21, 23, 23, 23, 21, 19, 21, 19, 21, 23, 27, 27, 28, 30, 30, 32, 32, 32, 32, \n",
    "              34, 34, 34, 36, 36, 36, 36, 36, 36, 34, 34, 34, 34, 34, 34, 32, 30, 30, 30, 28, 28, 27,\n",
    "              27, 27, 23, 23, 21, 21, 21, 19, 19, 19, 18, 18, 21, 27, 28, 30, 32, 34, 36, 37, 37, 37, \n",
    "              39, 39, 39, 39, 39, 39, 41, 41, 41, 41, 41, 39, 39, 37, 37, 36, 36, 34, 34, 32, 30, 30,\n",
    "              28, 27, 27, 25, 23, 23, 21, 21, 19, 19, 19, 18, 18, 18, 21, 25, 27, 28, 34, 34, 41, 37, \n",
    "              37, 39, 39, 39, 39, 41, 41, 39, 39, 39, 39, 39, 41, 39, 39, 39, 37, 36, 34, 32, 28, 28,\n",
    "              27, 25, 25, 25, 23, 23, 23, 23, 21, 21, 21, 21, 19, 21, 19, 21, 21, 19, 21, 27, 28, 32,\n",
    "              36, 36, 37, 39, 39, 39, 39, 39, 41, 41, 41, 41, 41, 41, 41, 41, 41, 39, 37, 36, 36, 34,\n",
    "              32, 30, 28, 28, 27, 27, 25, 25, 23, 23, 23, 21, 21, 21, 19, 19, 19, 19, 19, 19, 21, 23,\n",
    "              23, 23, 25, 27, 30, 36, 37, 37, 39, 39, 41, 41, 41, 39, 39, 41, 43, 43, 43, 43, 43, 43,\n",
    "              43, 43, 43, 39, 37, 37, 37, 36, 36, 36, 36, 34, 32, 32, 32, 32, 30, 30, 28, 28, 28, 27,\n",
    "              27, 27, 27, 25, 27, 27, 27, 28, 28, 28, 30, 32, 32, 32, 34, 34, 36, 36, 36, 37, 37, 37,\n",
    "              37, 37, 37, 37, 37, 37, 36, 34, 30, 30, 27, 27, 25, 25, 23, 21, 21, 21, 21, 19, 19, 19,\n",
    "              19, 19, 18, 18, 18, 18, 18, 19, 23, 27, 30, 32, 32, 32, 32, 32, 32, 34, 34, 34, 34, 34,\n",
    "              36, 36, 36, 36, 36, 32, 32, 32, 32, 32, 32, 32, 32, 30, 30, 30, 30, 30, 30, 30, 30, 30,\n",
    "              30, 30, 30, 30, 28, 28]\n",
    "temp_celsius = []\n",
    "temp_classes = []\n",
    "for i in temp_data:\n",
    "    temp_celsius.append(fahr_to_celsius(i)) # в этом цикле особого смысла нет,\n",
    "    # можно обойтись без него, но, тк я копировал, он остался\n",
    "for j in range(len(temp_celsius)):\n",
    "    temp_classes.append(temp_classifier(temp_celsius[j]))\n",
    "print (temp_classes)"
   ]
  },
  {
   "cell_type": "markdown",
   "metadata": {
    "deletable": false,
    "editable": false,
    "nbgrader": {
     "cell_type": "markdown",
     "checksum": "0d5c431bb9f574985489e5b45f992ebd",
     "grade": false,
     "grade_id": "cell-4f684d1504712a9d",
     "locked": true,
     "schema_version": 3,
     "solution": false,
     "task": false
    }
   },
   "source": [
    "#### <span style=\"color:green\">Вопрос по Time Range</span>\n",
    "Каждую пару хочу задать один и тот же вопрос, но по разным причинам откладываю на потом.Вопрос в том, как на различных площадках по написанию кода укладываться во временной промежуток, тк это обычная проблема для питона. Я примерно понимаю, почему она возникает и уже знаком с библиотеками, которые \"переводят\" код в C-подобный, чтобы значительно его ускорить. Чаще всего, если я не укладываюсь в time range я переписываю код на C++ и все прекрасно работает, но хотелось бы узнать про какой-нибудь способ, чтобы избежать этих переходов с язык на язык (хотя ответ очевиден - перейти на C++ и не жаловаться, что что-то работает долго).\n",
    "\n",
    "В итоге, прошу Вас поделиться либо литературой, либо объяснить подробнее почему питон так долго выполняет задачи (например цикл в цикле), как лучше всего это избегать (чтобы другой программист потом не говорил какой я дурак).\n",
    "            Заранее спасибо большое."
   ]
  }
 ],
 "metadata": {
  "kernelspec": {
   "display_name": "Python 3 (ipykernel)",
   "language": "python",
   "name": "python3"
  },
  "language_info": {
   "codemirror_mode": {
    "name": "ipython",
    "version": 3
   },
   "file_extension": ".py",
   "mimetype": "text/x-python",
   "name": "python",
   "nbconvert_exporter": "python",
   "pygments_lexer": "ipython3",
   "version": "3.11.5"
  }
 },
 "nbformat": 4,
 "nbformat_minor": 4
}

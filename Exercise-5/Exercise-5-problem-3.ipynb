{
 "cells": [
  {
   "cell_type": "markdown",
   "metadata": {
    "deletable": false,
    "editable": false,
    "nbgrader": {
     "cell_type": "markdown",
     "checksum": "5c80a2a9de6cb49c29a435c2524fb4a6",
     "grade": false,
     "grade_id": "Intro_text",
     "locked": true,
     "schema_version": 3,
     "solution": false
    }
   },
   "source": [
    "## Problem 3 - Data analysis (4 points)\n",
    "\n",
    "In this problem we will explore our temperature data by comparing spring temperatures between Helsinki Kumpula and Rovaniemi. To do this we'll use some conditions to extract subsets of our data and then analyse these subsets using basic pandas functions. Please perform the tasks below by writing your code into the code cells in each section.\n",
    "\n",
    "### Tips for completing this problem\n",
    "\n",
    "- Use **exactly** the same variable names as in the instructions because your answers will be automatically graded, and the tests that grade your answers rely on following the same formatting or variable naming as in the instructions.\n",
    "- **Please do not**:\n",
    "\n",
    "    - **Change the file names**. Do all of your editing in the provided `Exercise-5-problem-3.ipynb` file (this file).\n",
    "    - **Copy/paste cells in this notebook**. We use an automated grading system that will fail if there are copies of code cells.\n",
    "    - **Change the existing cell types**. You can add cells, but changing the cell types for existing cells (from code to markdown, for example) will also cause the automated grader to fail. \n",
    "\n",
    "### Scores for this problem\n",
    "\n",
    "**Your score on this problem will be based on following criteria:**\n",
    "\n",
    "- Calculating the median temperatures for Helsinki Kumpula and Rovaniemi for the summer of 2017\n",
    "- Selecting temperatures for May and June 2017 in separate dataframes for each location\n",
    "- Printing out some summary values for each month (May, June) and location (Kumpula, Rovaniemi)\n",
    "- Including comments that explain what most lines in the code do\n",
    "- Answering a couple questions at the end of the problem\n",
    "- Uploading your notebook and data files to your GitHub repository for this week's exercise"
   ]
  },
  {
   "cell_type": "markdown",
   "metadata": {
    "deletable": false,
    "editable": false,
    "nbgrader": {
     "cell_type": "markdown",
     "checksum": "f44f543a21dd35544d34ed3ddf672997",
     "grade": false,
     "grade_id": "cell-a91a0ee92f8c4962",
     "locked": true,
     "schema_version": 3,
     "solution": false,
     "task": false
    },
    "tags": []
   },
   "source": [
    "## AI tool usage agreement\n",
    "\n",
    "**Enter your name (and that of your partner) in the cell below** to confirm that you have followed the [course guidelines on the use of AI tools](https://geo-python-site.readthedocs.io/en/latest/course-info/ai-tools.html) and understand that misuse of AI tools is considered cheating."
   ]
  },
  {
   "cell_type": "markdown",
   "metadata": {
    "deletable": false,
    "nbgrader": {
     "cell_type": "markdown",
     "checksum": "3bb5d1793afe421eb01ccbafb4af6f83",
     "grade": true,
     "grade_id": "E5-P3-AI-LLM_statement",
     "locked": false,
     "points": 0,
     "schema_version": 3,
     "solution": true,
     "task": false
    },
    "tags": []
   },
   "source": [
    "YOUR ANSWER HERE"
   ]
  },
  {
   "cell_type": "markdown",
   "metadata": {
    "deletable": false,
    "editable": false,
    "nbgrader": {
     "cell_type": "markdown",
     "checksum": "1b6ab534a2cd475117b7d0016c7cf9f3",
     "grade": false,
     "grade_id": "cell-33c2d0518738c711",
     "locked": true,
     "schema_version": 3,
     "solution": false,
     "task": false
    }
   },
   "source": [
    "### Part 1 (0 points)\n",
    "\n",
    "First, you need to load the data from Problem 2.\n",
    "\n",
    "- Read in the csv files generated in Problem 2 to the variables `kumpula` and `rovaniemi`"
   ]
  },
  {
   "cell_type": "code",
   "execution_count": 1,
   "metadata": {
    "deletable": false,
    "nbgrader": {
     "cell_type": "code",
     "checksum": "deb603f4e6e03059689d01f3d8ca3044",
     "grade": false,
     "grade_id": "problem_3_ag_p1_read_data",
     "locked": false,
     "schema_version": 3,
     "solution": true
    }
   },
   "outputs": [],
   "source": [
    "import pandas as pd\n",
    "from data import * \n",
    "kumpula = pd.read_csv(\n",
    "    'data/Kumpula_temps_May_Aug_2017.csv',\n",
    "    sep=',',\n",
    "    na_values=['*', '**', '***', '****', '*****', '******'],\n",
    "    )\n",
    "rovaniemi = pd.read_csv(\n",
    "    'data/Rovaniemi_temps_May_Aug_2017.csv',\n",
    "    sep=',',\n",
    "    na_values=['*', '**', '***', '****', '*****', '******'],\n",
    "    )"
   ]
  },
  {
   "cell_type": "code",
   "execution_count": 2,
   "metadata": {},
   "outputs": [
    {
     "name": "stdout",
     "output_type": "stream",
     "text": [
      "    USAF  YR--MODAHRMN  TEMP   MAX   MIN  Celsius\n",
      "0  29980  201705010600  44.0  44.0  35.0     6.67\n",
      "1  29980  201705011800  48.0  54.0  43.0     8.89\n",
      "2  29980  201705020600  50.0  50.0  34.0    10.00\n",
      "3  29980  201705021800  53.0  61.0  49.0    11.67\n",
      "4  29980  201705030600  47.0  53.0  38.0     8.33\n",
      "\n",
      "    USAF  YR--MODAHRMN  TEMP   MAX   MIN  Celsius\n",
      "0  28450  201705010600  31.0  34.0  31.0    -0.56\n",
      "1  28450  201705011800  42.0  44.0  30.0     5.56\n",
      "2  28450  201705020600  41.0  42.0  35.0     5.00\n",
      "3  28450  201705021800  37.0  45.0  36.0     2.78\n",
      "4  28450  201705030600  37.0  37.0  33.0     2.78\n"
     ]
    }
   ],
   "source": [
    "print(kumpula.head())\n",
    "print(\"\")\n",
    "print(rovaniemi.head())"
   ]
  },
  {
   "cell_type": "markdown",
   "metadata": {
    "deletable": false,
    "editable": false,
    "nbgrader": {
     "cell_type": "markdown",
     "checksum": "a5318107021b10fe1830ba30bcc46e89",
     "grade": false,
     "grade_id": "cell-c25a29efbcf77ee7",
     "locked": true,
     "schema_version": 3,
     "solution": false,
     "task": false
    }
   },
   "source": [
    "### Part 2 (1 points)\n",
    "\n",
    "Next you can find the *median temperatures* for the period the data covers.\n",
    "\n",
    "- What was the median Celsius temperature during the observed period in:\n",
    "    - Helsinki Kumpula? (store the answer in a variable `kumpula_median`)\n",
    "    - Rovaniemi? (store the answer in a variable `rovaniemi_median`)"
   ]
  },
  {
   "cell_type": "code",
   "execution_count": 3,
   "metadata": {
    "deletable": false,
    "nbgrader": {
     "cell_type": "code",
     "checksum": "975856c4e5d377c3aaabec3af0fe53da",
     "grade": false,
     "grade_id": "problem_3_ag_p2_median",
     "locked": false,
     "schema_version": 3,
     "solution": true
    }
   },
   "outputs": [],
   "source": [
    "kumpula_median = kumpula['Celsius'].mean()\n",
    "rovaniemi_median = rovaniemi['Celsius'].mean()"
   ]
  },
  {
   "cell_type": "code",
   "execution_count": 4,
   "metadata": {
    "deletable": false,
    "editable": false,
    "nbgrader": {
     "cell_type": "code",
     "checksum": "c74731bd13e85d92c4c9c1b77dabc589",
     "grade": true,
     "grade_id": "problem_3_ag_p2_median_test",
     "locked": true,
     "points": 1,
     "schema_version": 3,
     "solution": false
    }
   },
   "outputs": [
    {
     "name": "stdout",
     "output_type": "stream",
     "text": [
      "Kumpula median: 14.15843621399177\n",
      "Rovaniemi median: 10.706818181818182\n"
     ]
    }
   ],
   "source": [
    "# Prints the median temperatures\n",
    "print(f\"Kumpula median: {kumpula_median}\")\n",
    "print(f\"Rovaniemi median: {rovaniemi_median}\")\n"
   ]
  },
  {
   "cell_type": "markdown",
   "metadata": {
    "deletable": false,
    "editable": false,
    "nbgrader": {
     "cell_type": "markdown",
     "checksum": "e78788aaa693f3cbdff98a364cf9b494",
     "grade": false,
     "grade_id": "cell-6eda08b036b421d9",
     "locked": true,
     "schema_version": 3,
     "solution": false,
     "task": false
    }
   },
   "source": [
    "### Part 3 (2 points)\n",
    "\n",
    "The median temperatures above consider data from the entire summer (May-Aug), hence the differences might not be so clear. Let's now find the *mean temperatures* from May and June 2017 in Kumpula and Rovaniemi.\n",
    "\n",
    "- From the `kumpula` and `rovaniemi` DataFrames, select the rows where values of the `YR--MODAHRMN` column are from May 2017\n",
    "    - Assign these selected rows to the variables `kumpula_may` and `rovaniemi_may` (you can check the [hints](https://geo-python.github.io/site/lessons/L5/exercise-5.html) for help!)\n",
    "- Repeat the procedure for the month of June and assign those values to variables to `kumpula_june` and `rovaniemi_june`"
   ]
  },
  {
   "cell_type": "code",
   "execution_count": 5,
   "metadata": {},
   "outputs": [],
   "source": [
    "# Select the subset of the Kumpula and Rovaniemi data for the 5th and 6th month\n",
    "def decode_date(date_string): # сразу сделал сортировку для всего\n",
    "    year = str(date_string)[:4]\n",
    "    month = str(date_string)[4:6]\n",
    "    day = str(date_string)[6:8]\n",
    "    time = f'{str(date_string)[8:10]}:{str(date_string)[10:]}'\n",
    "    return year, month, day, time,\n",
    "kumpula[['Year', 'Month', 'Day', 'TIME']] = kumpula['YR--MODAHRMN'].apply(lambda x: pd.Series(decode_date(x)))\n",
    "rovaniemi[['Year', 'Month', 'Day', 'TIME']] = rovaniemi['YR--MODAHRMN'].apply(lambda x: pd.Series(decode_date(x)))\n",
    "\n",
    "kumpula_may = kumpula[kumpula['Month'] == '05']\n",
    "rovaniemi_may = rovaniemi[rovaniemi['Month'] == '05']\n",
    "\n",
    "kumpula_june = kumpula[kumpula['Month'] == '06']\n",
    "rovaniemi_june = rovaniemi[rovaniemi['Month'] == '06']"
   ]
  },
  {
   "cell_type": "markdown",
   "metadata": {
    "deletable": false,
    "editable": false,
    "nbgrader": {
     "cell_type": "markdown",
     "checksum": "ced113a7a44f6c3bc88de58a3dc62056",
     "grade": false,
     "grade_id": "cell-c20a16ae3d1442cb",
     "locked": true,
     "schema_version": 3,
     "solution": false,
     "task": false
    }
   },
   "source": [
    "Check that the subsets look ok:"
   ]
  },
  {
   "cell_type": "code",
   "execution_count": 6,
   "metadata": {
    "deletable": false,
    "editable": false,
    "nbgrader": {
     "cell_type": "code",
     "checksum": "2b46b5ac73b0c1ecdec568ab8da5f07d",
     "grade": true,
     "grade_id": "problem_3_ag_p3_Kumpula_may_test",
     "locked": true,
     "points": 0.5,
     "schema_version": 3,
     "solution": false
    }
   },
   "outputs": [
    {
     "name": "stdout",
     "output_type": "stream",
     "text": [
      "First values in May, Kumpula:\n",
      "    USAF  YR--MODAHRMN  TEMP   MAX   MIN  Celsius  Year Month Day   TIME\n",
      "0  29980  201705010600  44.0  44.0  35.0     6.67  2017    05  01  06:00\n",
      "1  29980  201705011800  48.0  54.0  43.0     8.89  2017    05  01  18:00\n",
      "2  29980  201705020600  50.0  50.0  34.0    10.00  2017    05  02  06:00\n",
      "3  29980  201705021800  53.0  61.0  49.0    11.67  2017    05  02  18:00\n",
      "4  29980  201705030600  47.0  53.0  38.0     8.33  2017    05  03  06:00\n",
      "\n",
      "Last values in May, Kumpula:\n",
      "     USAF  YR--MODAHRMN  TEMP   MAX   MIN  Celsius  Year Month Day   TIME\n",
      "57  29980  201705291800  55.0  67.0  55.0    12.78  2017    05  29  18:00\n",
      "58  29980  201705300600  52.0  55.0  40.0    11.11  2017    05  30  06:00\n",
      "59  29980  201705301800  48.0  56.0  48.0     8.89  2017    05  30  18:00\n",
      "60  29980  201705310600  49.0  49.0  47.0     9.44  2017    05  31  06:00\n",
      "61  29980  201705311800  53.0  61.0  49.0    11.67  2017    05  31  18:00\n"
     ]
    }
   ],
   "source": [
    "print(f\"First values in May, Kumpula:\\n{kumpula_may.head()}\\n\")\n",
    "print(f\"Last values in May, Kumpula:\\n{kumpula_may.tail()}\")"
   ]
  },
  {
   "cell_type": "code",
   "execution_count": 7,
   "metadata": {
    "deletable": false,
    "editable": false,
    "nbgrader": {
     "cell_type": "code",
     "checksum": "e4d83fa396f745a05cfd902c4107fc23",
     "grade": true,
     "grade_id": "problem_3_ag_p3_Kumpula_june_test",
     "locked": true,
     "points": 0.5,
     "schema_version": 3,
     "solution": false,
     "task": false
    }
   },
   "outputs": [
    {
     "name": "stdout",
     "output_type": "stream",
     "text": [
      "First values in June, Kumpula:\n",
      "     USAF  YR--MODAHRMN  TEMP   MAX   MIN  Celsius  Year Month Day   TIME\n",
      "62  29980  201706010600  48.0  53.0  40.0     8.89  2017    06  01  06:00\n",
      "63  29980  201706011800  44.0  52.0  42.0     6.67  2017    06  01  18:00\n",
      "64  29980  201706020600  44.0  44.0  36.0     6.67  2017    06  02  06:00\n",
      "65  29980  201706021800  47.0  49.0  43.0     8.33  2017    06  02  18:00\n",
      "66  29980  201706030600  48.0  48.0  38.0     8.89  2017    06  03  06:00\n",
      "\n",
      "Last values in June, Kumpula:\n",
      "      USAF  YR--MODAHRMN  TEMP   MAX   MIN  Celsius  Year Month Day   TIME\n",
      "116  29980  201706281800  60.0  68.0  60.0    15.56  2017    06  28  18:00\n",
      "117  29980  201706290600  61.0  61.0  47.0    16.11  2017    06  29  06:00\n",
      "118  29980  201706291800  65.0  69.0  61.0    18.33  2017    06  29  18:00\n",
      "119  29980  201706300600  61.0  65.0  58.0    16.11  2017    06  30  06:00\n",
      "120  29980  201706301800  65.0  68.0  61.0    18.33  2017    06  30  18:00\n"
     ]
    }
   ],
   "source": [
    "print(f\"First values in June, Kumpula:\\n{kumpula_june.head()}\\n\")\n",
    "print(f\"Last values in June, Kumpula:\\n{kumpula_june.tail()}\")"
   ]
  },
  {
   "cell_type": "code",
   "execution_count": 8,
   "metadata": {
    "deletable": false,
    "editable": false,
    "nbgrader": {
     "cell_type": "code",
     "checksum": "227099ba97029cbeb597834860f637b2",
     "grade": true,
     "grade_id": "problem_3_ag_p3_Rovaniemi_may_test",
     "locked": true,
     "points": 0.5,
     "schema_version": 3,
     "solution": false
    }
   },
   "outputs": [
    {
     "name": "stdout",
     "output_type": "stream",
     "text": [
      "First values in May, Rovaniemi:\n",
      "    USAF  YR--MODAHRMN  TEMP   MAX   MIN  Celsius  Year Month Day   TIME\n",
      "0  28450  201705010600  31.0  34.0  31.0    -0.56  2017    05  01  06:00\n",
      "1  28450  201705011800  42.0  44.0  30.0     5.56  2017    05  01  18:00\n",
      "2  28450  201705020600  41.0  42.0  35.0     5.00  2017    05  02  06:00\n",
      "3  28450  201705021800  37.0  45.0  36.0     2.78  2017    05  02  18:00\n",
      "4  28450  201705030600  37.0  37.0  33.0     2.78  2017    05  03  06:00\n",
      "\n",
      "Last values in May, Rovaniemi:\n",
      "     USAF  YR--MODAHRMN  TEMP   MAX   MIN  Celsius  Year Month Day   TIME\n",
      "57  28450  201705291800  42.0  44.0  39.0     5.56  2017    05  29  18:00\n",
      "58  28450  201705300600  41.0  42.0  31.0     5.00  2017    05  30  06:00\n",
      "59  28450  201705301800  46.0  49.0  40.0     7.78  2017    05  30  18:00\n",
      "60  28450  201705310600  36.0  45.0  33.0     2.22  2017    05  31  06:00\n",
      "61  28450  201705311800  42.0  46.0  36.0     5.56  2017    05  31  18:00\n"
     ]
    }
   ],
   "source": [
    "print(f\"First values in May, Rovaniemi:\\n{rovaniemi_may.head()}\\n\")\n",
    "print(f\"Last values in May, Rovaniemi:\\n{rovaniemi_may.tail()}\")"
   ]
  },
  {
   "cell_type": "code",
   "execution_count": 9,
   "metadata": {
    "deletable": false,
    "editable": false,
    "nbgrader": {
     "cell_type": "code",
     "checksum": "b1479509bbe424439169f91d57fa1c54",
     "grade": true,
     "grade_id": "problem_3_ag_p3_Rovaniemi_june_test",
     "locked": true,
     "points": 0.5,
     "schema_version": 3,
     "solution": false,
     "task": false
    }
   },
   "outputs": [
    {
     "name": "stdout",
     "output_type": "stream",
     "text": [
      "First values in June, Rovaniemi:\n",
      "     USAF  YR--MODAHRMN  TEMP   MAX   MIN  Celsius  Year Month Day   TIME\n",
      "62  28450  201706010600  34.0  42.0  30.0     1.11  2017    06  01  06:00\n",
      "63  28450  201706011800  36.0  44.0  34.0     2.22  2017    06  01  18:00\n",
      "64  28450  201706020600  36.0  36.0  32.0     2.22  2017    06  02  06:00\n",
      "65  28450  201706021800  38.0  43.0  36.0     3.33  2017    06  02  18:00\n",
      "66  28450  201706030600  36.0  38.0  35.0     2.22  2017    06  03  06:00\n",
      "\n",
      "Last values in June, Rovaniemi:\n",
      "      USAF  YR--MODAHRMN  TEMP   MAX   MIN  Celsius  Year Month Day   TIME\n",
      "116  28450  201706281800  55.0  59.0  48.0    12.78  2017    06  28  18:00\n",
      "117  28450  201706290600  53.0  55.0  50.0    11.67  2017    06  29  06:00\n",
      "118  28450  201706291800  58.0  65.0  53.0    14.44  2017    06  29  18:00\n",
      "119  28450  201706300600  62.0  62.0  51.0    16.67  2017    06  30  06:00\n",
      "120  28450  201706301800  67.0  71.0  61.0    19.44  2017    06  30  18:00\n"
     ]
    }
   ],
   "source": [
    "print(f\"First values in June, Rovaniemi:\\n{rovaniemi_june.head()}\\n\")\n",
    "print(f\"Last values in June, Rovaniemi:\\n{rovaniemi_june.tail()}\")"
   ]
  },
  {
   "cell_type": "markdown",
   "metadata": {
    "deletable": false,
    "editable": false,
    "nbgrader": {
     "cell_type": "markdown",
     "checksum": "a65a68a4bf3075ccc9de3bb5ce5266c1",
     "grade": false,
     "grade_id": "cell-5d735e872f16ccd5",
     "locked": true,
     "schema_version": 3,
     "solution": false,
     "task": false
    }
   },
   "source": [
    "### Part 4 (1 point)\n",
    "\n",
    "Now you can make your temperature data from both locations and months easier to compare by printing out a few useful values.\n",
    "\n",
    "- Use the `print()` function to show the mean, min and max Celsius temperatures for both places in May and June using the new subset dataframes (`kumpula_may`, `rovaniemi_may`, `kumpula_june`, and `rovaniemi_june`)."
   ]
  },
  {
   "cell_type": "code",
   "execution_count": 10,
   "metadata": {
    "deletable": false,
    "nbgrader": {
     "cell_type": "code",
     "checksum": "12a6c95dd173d219530d35b72f81490f",
     "grade": true,
     "grade_id": "problem_3_mg_p4_May_and_June_stats",
     "locked": false,
     "points": 1,
     "schema_version": 3,
     "solution": true
    }
   },
   "outputs": [
    {
     "name": "stdout",
     "output_type": "stream",
     "text": [
      "Kumpula in May:\n",
      "Mean Temperature: 10.07\n",
      "Min Temperature: 2.22\n",
      "Max Temperature: 17.78\n",
      "\n",
      "Rovaniemi in May:\n",
      "Mean Temperature: 3.49\n",
      "Min Temperature: -2.78\n",
      "Max Temperature: 12.22\n",
      "\n",
      "Kumpula in June:\n",
      "Mean Temperature: 14.23\n",
      "Min Temperature: 6.67\n",
      "Max Temperature: 21.11\n"
     ]
    }
   ],
   "source": [
    "print(\"Kumpula in May:\")\n",
    "print(\"Mean Temperature:\", \"%.2f\" %kumpula_may['Celsius'].mean())\n",
    "print(\"Min Temperature:\", kumpula_may['Celsius'].min())\n",
    "print(\"Max Temperature:\", kumpula_may['Celsius'].max())\n",
    "\n",
    "print(\"\\nRovaniemi in May:\")\n",
    "print(\"Mean Temperature:\", \"%.2f\" %rovaniemi_may['Celsius'].mean())\n",
    "print(\"Min Temperature:\", rovaniemi_may['Celsius'].min())\n",
    "print(\"Max Temperature:\", rovaniemi_may['Celsius'].max())\n",
    "\n",
    "print(\"\\nKumpula in June:\")\n",
    "print(\"Mean Temperature:\", \"%.2f\" %kumpula_june['Celsius'].mean())\n",
    "print(\"Min Temperature:\", kumpula_june['Celsius'].min())\n",
    "print(\"Max Temperature:\", kumpula_june['Celsius'].max())"
   ]
  },
  {
   "cell_type": "markdown",
   "metadata": {
    "deletable": false,
    "editable": false,
    "nbgrader": {
     "cell_type": "markdown",
     "checksum": "c19a758e3ace532979854894a73433a0",
     "grade": false,
     "grade_id": "comments",
     "locked": true,
     "schema_version": 3,
     "solution": false
    }
   },
   "source": [
    "### Problem 3 summary\n",
    "\n",
    "In the spirit of [knowledge discovery](http://researcher.ibm.com/researcher/view_group.php?id=144), let's briefly interpret the results of the data analysis in Problem 3. Please answer the following questions based on the data analysis results from this problem:\n",
    "\n",
    "- Does there seem to be a large difference in temperatures between the months?\n",
    "- Is Rovaniemi a much colder place than Kumpula?\n",
    "\n",
    "Also, be sure to:\n",
    "\n",
    "- Check that your code includes informative comments explaining what your code does\n",
    "- Commit and push your changes to your GitHub repository for Exercise 5"
   ]
  },
  {
   "cell_type": "markdown",
   "metadata": {
    "deletable": false,
    "nbgrader": {
     "cell_type": "markdown",
     "checksum": "1f0848d8fe16e12f1951ccdd1b5edf83",
     "grade": true,
     "grade_id": "problem_3_mg_p5_questions",
     "locked": false,
     "points": 0,
     "schema_version": 3,
     "solution": true,
     "task": false
    }
   },
   "source": [
    "YOUR ANSWER HERE"
   ]
  },
  {
   "cell_type": "markdown",
   "metadata": {
    "deletable": false,
    "editable": false,
    "nbgrader": {
     "cell_type": "markdown",
     "checksum": "0e5f52b74f4ffaea57ca77ace2732647",
     "grade": false,
     "grade_id": "text",
     "locked": true,
     "schema_version": 3,
     "solution": false
    }
   },
   "source": [
    "### On to Problem 4 (*optional*)\n",
    "\n",
    "Now you can continue to the *optional* [Problem 4: Data analysis](Exercise-5-problem-4.ipynb)"
   ]
  }
 ],
 "metadata": {
  "anaconda-cloud": {},
  "kernelspec": {
   "display_name": "Python 3 (ipykernel)",
   "language": "python",
   "name": "python3"
  },
  "language_info": {
   "codemirror_mode": {
    "name": "ipython",
    "version": 3
   },
   "file_extension": ".py",
   "mimetype": "text/x-python",
   "name": "python",
   "nbconvert_exporter": "python",
   "pygments_lexer": "ipython3",
   "version": "3.11.5"
  }
 },
 "nbformat": 4,
 "nbformat_minor": 4
}

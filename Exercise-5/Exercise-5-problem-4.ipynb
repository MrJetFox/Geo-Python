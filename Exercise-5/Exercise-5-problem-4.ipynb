{
 "cells": [
  {
   "cell_type": "markdown",
   "metadata": {
    "deletable": false,
    "editable": false,
    "nbgrader": {
     "cell_type": "markdown",
     "checksum": "fb038891b02b74e05090a1708dcb85d7",
     "grade": false,
     "grade_id": "cell-8f87d3f057af49f1",
     "locked": true,
     "schema_version": 3,
     "solution": false,
     "task": false
    }
   },
   "source": [
    "## Problem 4 (*optional*) - Parsing daily temperatures\n",
    "\n",
    "**This is an optional task for those who want more practice.**\n",
    "\n",
    "This problem is more challenging as we provide only minimal instructions for completing the given tasks. You will need to search through the pandas documentation (and other resources) for help. We will cover data aggregation in more detail during Lesson 6, so this is a good opportunity to get a head start for next week!\n",
    "\n",
    "In this problem, the aim is to aggregate the hourly temperature data for Helsinki Kumpula and Rovaniemi weather stations to the daily level. Currently, there are (at most) 3 measurements per hour in the data as you can see from the `YR--MODAHRMN` column (Year-Month-Day-Hour-Minute in Greenwich Mean Time (GMT):\n",
    "\n",
    "```\n",
    "    USAF  YR--MODAHRMN  TEMP  MAX  MIN  Celsius\n",
    "0  28450  201705010000  31.0  NaN  NaN       -1\n",
    "1  28450  201705010020  30.0  NaN  NaN       -1\n",
    "2  28450  201705010050  30.0  NaN  NaN       -1\n",
    "3  28450  201705010100  31.0  NaN  NaN       -1\n",
    "4  28450  201705010120  30.0  NaN  NaN       -1\n",
    "```\n",
    "\n",
    "The output should contain mean, max, and min Celsius temperatures for each day (for example, one mean temperature value for the 1st of May and so on).\n",
    "\n",
    "### What to do\n",
    "\n",
    "- Your task is to summarize the information for each day by aggregating (grouping) the DataFrame.\n",
    "- The output should be a new DataFrame where you have calculated the mean, max, and min Celsius temperatures for each day separately based on hourly values.\n",
    "- Repeat the task for the two data sets you created in Problem 2 (May-August temperatures from Rovaniemi and Kumpula).\n",
    "\n",
    "Don't forget to:\n",
    "\n",
    "- Include useful comments in your code\n",
    "- Push your solution to GitHub\n",
    "\n",
    "### Hint\n",
    "\n",
    "You can find help from the [Pandas Official documentation](https://pandas.pydata.org/pandas-docs/stable/) and Google. Don't hestiate to ask for tips in Discord!"
   ]
  },
  {
   "cell_type": "code",
   "execution_count": 1,
   "metadata": {
    "deletable": false,
    "nbgrader": {
     "cell_type": "code",
     "checksum": "71f685a62c58703b2de3ecec535adf13",
     "grade": true,
     "grade_id": "problem_4_mg_p1_do_it_all",
     "locked": false,
     "points": 0,
     "schema_version": 3,
     "solution": true,
     "task": false
    }
   },
   "outputs": [
    {
     "name": "stdout",
     "output_type": "stream",
     "text": [
      "     USAF  TEMP   MAX   MIN  Celsius MEAN_C  MAX_C  MIN_C  Year Month Day  \\\n",
      "0   29980  44.0  44.0  35.0     6.67  14.16  21.11   2.22  2017    05  01   \n",
      "1   29980  48.0  54.0  43.0     8.89  14.16  21.11   2.22  2017    05  01   \n",
      "2   29980  50.0  50.0  34.0    10.00  14.16  21.11   2.22  2017    05  02   \n",
      "3   29980  53.0  61.0  49.0    11.67  14.16  21.11   2.22  2017    05  02   \n",
      "4   29980  47.0  53.0  38.0     8.33  14.16  21.11   2.22  2017    05  03   \n",
      "..    ...   ...   ...   ...      ...    ...    ...    ...   ...   ...  ..   \n",
      "57  29980  55.0  67.0  55.0    12.78  14.16  21.11   2.22  2017    05  29   \n",
      "58  29980  52.0  55.0  40.0    11.11  14.16  21.11   2.22  2017    05  30   \n",
      "59  29980  48.0  56.0  48.0     8.89  14.16  21.11   2.22  2017    05  30   \n",
      "60  29980  49.0  49.0  47.0     9.44  14.16  21.11   2.22  2017    05  31   \n",
      "61  29980  53.0  61.0  49.0    11.67  14.16  21.11   2.22  2017    05  31   \n",
      "\n",
      "     TIME  \n",
      "0   06:00  \n",
      "1   18:00  \n",
      "2   06:00  \n",
      "3   18:00  \n",
      "4   06:00  \n",
      "..    ...  \n",
      "57  18:00  \n",
      "58  06:00  \n",
      "59  18:00  \n",
      "60  06:00  \n",
      "61  18:00  \n",
      "\n",
      "[62 rows x 12 columns]\n"
     ]
    }
   ],
   "source": [
    "import pandas as pd\n",
    "from data import * \n",
    "kumpula = pd.read_csv(\n",
    "    'data/Kumpula_temps_May_Aug_2017.csv',\n",
    "    sep=',',\n",
    "    na_values=['*', '**', '***', '****', '*****', '******'],\n",
    "    )\n",
    "rovaniemi = pd.read_csv(\n",
    "    'data/Rovaniemi_temps_May_Aug_2017.csv',\n",
    "    sep=',',\n",
    "    na_values=['*', '**', '***', '****', '*****', '******'],\n",
    "    )\n",
    "def decode_date(date_string): \n",
    "    year = str(date_string)[:4]\n",
    "    month = str(date_string)[4:6]\n",
    "    day = str(date_string)[6:8]\n",
    "    time = f'{str(date_string)[8:10]}:{str(date_string)[10:]}'\n",
    "    return year, month, day, time,\n",
    "\n",
    "kumpula[['MEAN_C']] = \"%.2f\" %kumpula['Celsius'].mean()\n",
    "kumpula[['MAX_C']] = kumpula['Celsius'].max()\n",
    "kumpula[['MIN_C']] = kumpula['Celsius'].min()\n",
    "\n",
    "rovaniemi[['MEAN_C']] = \"%.2f\" %rovaniemi['Celsius'].mean()\n",
    "rovaniemi[['MAX_C']] = rovaniemi['Celsius'].max()\n",
    "rovaniemi[['MIN_C']] = rovaniemi['Celsius'].min()\n",
    "\n",
    "kumpula[['Year', 'Month', 'Day', 'TIME']] = kumpula['YR--MODAHRMN'].apply(lambda x: pd.Series(decode_date(x)))\n",
    "rovaniemi[['Year', 'Month', 'Day', 'TIME']] = rovaniemi['YR--MODAHRMN'].apply(lambda x: pd.Series(decode_date(x)))\n",
    "\n",
    "kumpula = kumpula.drop('YR--MODAHRMN', axis=1)\n",
    "rovaniemi = rovaniemi.drop('YR--MODAHRMN', axis=1)\n",
    "\n",
    "kumpula_may = kumpula[kumpula['Month'] == '05']\n",
    "rovaniemi_may = rovaniemi[rovaniemi['Month'] == '05']\n",
    "\n",
    "kumpula_june = kumpula[kumpula['Month'] == '06']\n",
    "rovaniemi_june = rovaniemi[rovaniemi['Month'] == '06']\n",
    "\n",
    "\n",
    "print (kumpula_may)\n",
    "# Для примера я вывел только одну таблицу, тк места в терминале уже не хвататет."
   ]
  }
 ],
 "metadata": {
  "anaconda-cloud": {},
  "kernelspec": {
   "display_name": "Python 3 (ipykernel)",
   "language": "python",
   "name": "python3"
  },
  "language_info": {
   "codemirror_mode": {
    "name": "ipython",
    "version": 3
   },
   "file_extension": ".py",
   "mimetype": "text/x-python",
   "name": "python",
   "nbconvert_exporter": "python",
   "pygments_lexer": "ipython3",
   "version": "3.11.5"
  }
 },
 "nbformat": 4,
 "nbformat_minor": 4
}

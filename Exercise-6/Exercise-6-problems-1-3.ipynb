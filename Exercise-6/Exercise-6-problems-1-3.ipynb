{
 "cells": [
  {
   "cell_type": "markdown",
   "metadata": {
    "deletable": false,
    "editable": false,
    "nbgrader": {
     "cell_type": "markdown",
     "checksum": "460ff4053300ca00b230a3b787dfafcf",
     "grade": false,
     "grade_id": "cell-f2d00c67ecd9e7dc",
     "locked": true,
     "schema_version": 3,
     "solution": false
    }
   },
   "source": [
    "# Exercise 6: Weather anomalies (10 points)\n",
    "\n",
    "The aim of this exercise is to analyze historical weather data.\n",
    "- In Problem 1 you read in a tricky data file and explore it's contents.\n",
    "- In problem 2, you will convert and aggregate the data from daily temperatures in Fahrenheit, to monthly average temperatures in Celsius.\n",
    "- In Problem 3, you will finally analyze weather anomalies by comparing monthly average temperatures to a long-term average.\n",
    "\n",
    "### Tips for completing this exercise\n",
    "\n",
    "- Use **exactly** the same variable names as in the instructions because your answers will be automatically graded, and the tests that grade your answers rely on following the same formatting or variable naming as in the instructions.\n",
    "- **Please do not**:\n",
    "\n",
    "    - **Change the file names**. Do all of your editing in the provided `Exercise-6-problems-1-3.ipynb` file (this file).\n",
    "    - **Copy/paste cells in this notebook**. We use an automated grading system that will fail if there are copies of code cells.\n",
    "    - **Change the existing cell types**. You can add cells, but changing the cell types for existing cells (from code to markdown, for example) will also cause the automated grader to fail."
   ]
  },
  {
   "cell_type": "markdown",
   "metadata": {
    "deletable": false,
    "editable": false,
    "nbgrader": {
     "cell_type": "markdown",
     "checksum": "25890bd05c9444afbede5f3a4d5b57ff",
     "grade": false,
     "grade_id": "cell-b3c47ecccdfd3339",
     "locked": true,
     "schema_version": 3,
     "solution": false,
     "task": false
    },
    "tags": []
   },
   "source": [
    "## AI tool usage agreement\n",
    "\n",
    "**Enter your name (and that of your partner) in the cell below** to confirm that you have followed the [course guidelines on the use of AI tools](https://geo-python-site.readthedocs.io/en/latest/course-info/ai-tools.html) and understand that misuse of AI tools is considered cheating."
   ]
  },
  {
   "cell_type": "markdown",
   "metadata": {
    "deletable": false,
    "nbgrader": {
     "cell_type": "markdown",
     "checksum": "00e876c653a6a3f252d677b5068561ca",
     "grade": true,
     "grade_id": "E6-AI-LLM_statement",
     "locked": false,
     "points": 0,
     "schema_version": 3,
     "solution": true,
     "task": false
    },
    "tags": []
   },
   "source": [
    "YOUR ANSWER HERE"
   ]
  },
  {
   "cell_type": "markdown",
   "metadata": {
    "deletable": false,
    "editable": false,
    "nbgrader": {
     "cell_type": "markdown",
     "checksum": "7864f044263f203117c0b292a4c1d2be",
     "grade": false,
     "grade_id": "cell-ee8959b3d6e4f7f8",
     "locked": true,
     "schema_version": 3,
     "solution": false,
     "task": false
    },
    "tags": []
   },
   "source": [
    "## Problem 1 - Reading in a tricky data file (2 points)\n",
    "\n",
    "You first task for this exercise is to read in the data file [data/1091402.txt](data/1091402.txt) to a variable called `data`. Pay attention to the input data structure and no data values.\n",
    "\n",
    "### Scores for this problem\n",
    "\n",
    "**Your score on this problem will be based on following criteria:**\n",
    "\n",
    "- Reading the data into a variable called `data` using pandas\n",
    "    - Skipping the second row of the datafile that contains `----------` characters that don't belong to the data\n",
    "    - Convert the no-data values (`-9999`) into `NaN` \n",
    "- Calculating basic statistics from the data\n",
    "- Including comments that explain what most lines in the code do"
   ]
  },
  {
   "cell_type": "markdown",
   "metadata": {
    "deletable": false,
    "editable": false,
    "nbgrader": {
     "cell_type": "markdown",
     "checksum": "3d3d5961ecc23756da67c59b0053a8e9",
     "grade": false,
     "grade_id": "cell-52cc9f4650eada57",
     "locked": true,
     "schema_version": 3,
     "solution": false
    }
   },
   "source": [
    "### Part 1 (1 point)\n",
    "\n",
    "You should start by loading the data file.\n",
    "\n",
    "- Read the data file into variable the variable `data`\n",
    "    - Skip the second row\n",
    "    - Convert the no-data values (`-9999`) into `NaN`"
   ]
  },
  {
   "cell_type": "code",
   "execution_count": 1,
   "metadata": {
    "deletable": false,
    "nbgrader": {
     "cell_type": "code",
     "checksum": "81d2861b4a08146fdb3993c78a858168",
     "grade": false,
     "grade_id": "problem_1_ag_p1_read_file",
     "locked": false,
     "schema_version": 3,
     "solution": true
    }
   },
   "outputs": [
    {
     "name": "stdout",
     "output_type": "stream",
     "text": [
      "                 STATION ELEVATION LATITUDE LONGITUDE      DATE  PRCP TAVG  \\\n",
      "1      GHCND:FIE00142080        51  60.3269   24.9603  19520101  0.31   37   \n",
      "2      GHCND:FIE00142080        51  60.3269   24.9603  19520102  <NA>   35   \n",
      "3      GHCND:FIE00142080        51  60.3269   24.9603  19520103  0.14   33   \n",
      "4      GHCND:FIE00142080        51  60.3269   24.9603  19520104  0.05   29   \n",
      "5      GHCND:FIE00142080        51  60.3269   24.9603  19520105  0.06   27   \n",
      "...                  ...       ...      ...       ...       ...   ...  ...   \n",
      "23712  GHCND:FIE00142080        51  60.3269   24.9603  20170930  <NA>   47   \n",
      "23713  GHCND:FIE00142080        51  60.3269   24.9603  20171001  0.04   47   \n",
      "23714  GHCND:FIE00142080        51  60.3269   24.9603  20171002  <NA>   47   \n",
      "23715  GHCND:FIE00142080        51  60.3269   24.9603  20171003  0.94   47   \n",
      "23716  GHCND:FIE00142080        51  60.3269   24.9603  20171004  0.51   52   \n",
      "\n",
      "       TMAX  TMIN  \n",
      "1        39    34  \n",
      "2        37    34  \n",
      "3        36  <NA>  \n",
      "4        30    25  \n",
      "5        30    25  \n",
      "...     ...   ...  \n",
      "23712    49    44  \n",
      "23713    48    45  \n",
      "23714    49    46  \n",
      "23715  <NA>    44  \n",
      "23716    56  <NA>  \n",
      "\n",
      "[23716 rows x 9 columns]\n"
     ]
    }
   ],
   "source": [
    "import pandas as pd\n",
    "from data import * \n",
    "data = pd.read_csv('data/1091402.txt', sep='\\s+')\n",
    "data = data.drop(index=[0])\n",
    "data.replace('-9999', pd.NA, inplace=True)\n",
    "print (data)"
   ]
  },
  {
   "cell_type": "code",
   "execution_count": 2,
   "metadata": {
    "deletable": false,
    "editable": false,
    "nbgrader": {
     "cell_type": "code",
     "checksum": "4f2d002e5558bd4102cb11bd7a92436a",
     "grade": true,
     "grade_id": "problem_1_ag_p1_read_file_tests1",
     "locked": true,
     "points": 0.5,
     "schema_version": 3,
     "solution": false
    }
   },
   "outputs": [
    {
     "data": {
      "text/html": [
       "<div>\n",
       "<style scoped>\n",
       "    .dataframe tbody tr th:only-of-type {\n",
       "        vertical-align: middle;\n",
       "    }\n",
       "\n",
       "    .dataframe tbody tr th {\n",
       "        vertical-align: top;\n",
       "    }\n",
       "\n",
       "    .dataframe thead th {\n",
       "        text-align: right;\n",
       "    }\n",
       "</style>\n",
       "<table border=\"1\" class=\"dataframe\">\n",
       "  <thead>\n",
       "    <tr style=\"text-align: right;\">\n",
       "      <th></th>\n",
       "      <th>STATION</th>\n",
       "      <th>ELEVATION</th>\n",
       "      <th>LATITUDE</th>\n",
       "      <th>LONGITUDE</th>\n",
       "      <th>DATE</th>\n",
       "      <th>PRCP</th>\n",
       "      <th>TAVG</th>\n",
       "      <th>TMAX</th>\n",
       "      <th>TMIN</th>\n",
       "    </tr>\n",
       "  </thead>\n",
       "  <tbody>\n",
       "    <tr>\n",
       "      <th>1</th>\n",
       "      <td>GHCND:FIE00142080</td>\n",
       "      <td>51</td>\n",
       "      <td>60.3269</td>\n",
       "      <td>24.9603</td>\n",
       "      <td>19520101</td>\n",
       "      <td>0.31</td>\n",
       "      <td>37</td>\n",
       "      <td>39</td>\n",
       "      <td>34</td>\n",
       "    </tr>\n",
       "    <tr>\n",
       "      <th>2</th>\n",
       "      <td>GHCND:FIE00142080</td>\n",
       "      <td>51</td>\n",
       "      <td>60.3269</td>\n",
       "      <td>24.9603</td>\n",
       "      <td>19520102</td>\n",
       "      <td>&lt;NA&gt;</td>\n",
       "      <td>35</td>\n",
       "      <td>37</td>\n",
       "      <td>34</td>\n",
       "    </tr>\n",
       "    <tr>\n",
       "      <th>3</th>\n",
       "      <td>GHCND:FIE00142080</td>\n",
       "      <td>51</td>\n",
       "      <td>60.3269</td>\n",
       "      <td>24.9603</td>\n",
       "      <td>19520103</td>\n",
       "      <td>0.14</td>\n",
       "      <td>33</td>\n",
       "      <td>36</td>\n",
       "      <td>&lt;NA&gt;</td>\n",
       "    </tr>\n",
       "    <tr>\n",
       "      <th>4</th>\n",
       "      <td>GHCND:FIE00142080</td>\n",
       "      <td>51</td>\n",
       "      <td>60.3269</td>\n",
       "      <td>24.9603</td>\n",
       "      <td>19520104</td>\n",
       "      <td>0.05</td>\n",
       "      <td>29</td>\n",
       "      <td>30</td>\n",
       "      <td>25</td>\n",
       "    </tr>\n",
       "    <tr>\n",
       "      <th>5</th>\n",
       "      <td>GHCND:FIE00142080</td>\n",
       "      <td>51</td>\n",
       "      <td>60.3269</td>\n",
       "      <td>24.9603</td>\n",
       "      <td>19520105</td>\n",
       "      <td>0.06</td>\n",
       "      <td>27</td>\n",
       "      <td>30</td>\n",
       "      <td>25</td>\n",
       "    </tr>\n",
       "  </tbody>\n",
       "</table>\n",
       "</div>"
      ],
      "text/plain": [
       "             STATION ELEVATION LATITUDE LONGITUDE      DATE  PRCP TAVG TMAX  \\\n",
       "1  GHCND:FIE00142080        51  60.3269   24.9603  19520101  0.31   37   39   \n",
       "2  GHCND:FIE00142080        51  60.3269   24.9603  19520102  <NA>   35   37   \n",
       "3  GHCND:FIE00142080        51  60.3269   24.9603  19520103  0.14   33   36   \n",
       "4  GHCND:FIE00142080        51  60.3269   24.9603  19520104  0.05   29   30   \n",
       "5  GHCND:FIE00142080        51  60.3269   24.9603  19520105  0.06   27   30   \n",
       "\n",
       "   TMIN  \n",
       "1    34  \n",
       "2    34  \n",
       "3  <NA>  \n",
       "4    25  \n",
       "5    25  "
      ]
     },
     "execution_count": 2,
     "metadata": {},
     "output_type": "execute_result"
    }
   ],
   "source": [
    "# Check that the dataframe looks ok:\n",
    "data.head()"
   ]
  },
  {
   "cell_type": "code",
   "execution_count": 3,
   "metadata": {
    "deletable": false,
    "editable": false,
    "nbgrader": {
     "cell_type": "code",
     "checksum": "4085783ee6c0b8ce20df6135dbd3918a",
     "grade": true,
     "grade_id": "problem_1_ag_p1_read_file_tests2",
     "locked": true,
     "points": 0.5,
     "schema_version": 3,
     "solution": false
    }
   },
   "outputs": [
    {
     "data": {
      "text/html": [
       "<div>\n",
       "<style scoped>\n",
       "    .dataframe tbody tr th:only-of-type {\n",
       "        vertical-align: middle;\n",
       "    }\n",
       "\n",
       "    .dataframe tbody tr th {\n",
       "        vertical-align: top;\n",
       "    }\n",
       "\n",
       "    .dataframe thead th {\n",
       "        text-align: right;\n",
       "    }\n",
       "</style>\n",
       "<table border=\"1\" class=\"dataframe\">\n",
       "  <thead>\n",
       "    <tr style=\"text-align: right;\">\n",
       "      <th></th>\n",
       "      <th>STATION</th>\n",
       "      <th>ELEVATION</th>\n",
       "      <th>LATITUDE</th>\n",
       "      <th>LONGITUDE</th>\n",
       "      <th>DATE</th>\n",
       "      <th>PRCP</th>\n",
       "      <th>TAVG</th>\n",
       "      <th>TMAX</th>\n",
       "      <th>TMIN</th>\n",
       "    </tr>\n",
       "  </thead>\n",
       "  <tbody>\n",
       "    <tr>\n",
       "      <th>23712</th>\n",
       "      <td>GHCND:FIE00142080</td>\n",
       "      <td>51</td>\n",
       "      <td>60.3269</td>\n",
       "      <td>24.9603</td>\n",
       "      <td>20170930</td>\n",
       "      <td>&lt;NA&gt;</td>\n",
       "      <td>47</td>\n",
       "      <td>49</td>\n",
       "      <td>44</td>\n",
       "    </tr>\n",
       "    <tr>\n",
       "      <th>23713</th>\n",
       "      <td>GHCND:FIE00142080</td>\n",
       "      <td>51</td>\n",
       "      <td>60.3269</td>\n",
       "      <td>24.9603</td>\n",
       "      <td>20171001</td>\n",
       "      <td>0.04</td>\n",
       "      <td>47</td>\n",
       "      <td>48</td>\n",
       "      <td>45</td>\n",
       "    </tr>\n",
       "    <tr>\n",
       "      <th>23714</th>\n",
       "      <td>GHCND:FIE00142080</td>\n",
       "      <td>51</td>\n",
       "      <td>60.3269</td>\n",
       "      <td>24.9603</td>\n",
       "      <td>20171002</td>\n",
       "      <td>&lt;NA&gt;</td>\n",
       "      <td>47</td>\n",
       "      <td>49</td>\n",
       "      <td>46</td>\n",
       "    </tr>\n",
       "    <tr>\n",
       "      <th>23715</th>\n",
       "      <td>GHCND:FIE00142080</td>\n",
       "      <td>51</td>\n",
       "      <td>60.3269</td>\n",
       "      <td>24.9603</td>\n",
       "      <td>20171003</td>\n",
       "      <td>0.94</td>\n",
       "      <td>47</td>\n",
       "      <td>&lt;NA&gt;</td>\n",
       "      <td>44</td>\n",
       "    </tr>\n",
       "    <tr>\n",
       "      <th>23716</th>\n",
       "      <td>GHCND:FIE00142080</td>\n",
       "      <td>51</td>\n",
       "      <td>60.3269</td>\n",
       "      <td>24.9603</td>\n",
       "      <td>20171004</td>\n",
       "      <td>0.51</td>\n",
       "      <td>52</td>\n",
       "      <td>56</td>\n",
       "      <td>&lt;NA&gt;</td>\n",
       "    </tr>\n",
       "  </tbody>\n",
       "</table>\n",
       "</div>"
      ],
      "text/plain": [
       "                 STATION ELEVATION LATITUDE LONGITUDE      DATE  PRCP TAVG  \\\n",
       "23712  GHCND:FIE00142080        51  60.3269   24.9603  20170930  <NA>   47   \n",
       "23713  GHCND:FIE00142080        51  60.3269   24.9603  20171001  0.04   47   \n",
       "23714  GHCND:FIE00142080        51  60.3269   24.9603  20171002  <NA>   47   \n",
       "23715  GHCND:FIE00142080        51  60.3269   24.9603  20171003  0.94   47   \n",
       "23716  GHCND:FIE00142080        51  60.3269   24.9603  20171004  0.51   52   \n",
       "\n",
       "       TMAX  TMIN  \n",
       "23712    49    44  \n",
       "23713    48    45  \n",
       "23714    49    46  \n",
       "23715  <NA>    44  \n",
       "23716    56  <NA>  "
      ]
     },
     "execution_count": 3,
     "metadata": {},
     "output_type": "execute_result"
    }
   ],
   "source": [
    "# Check the last rows of the data (there should be some NaN values)\n",
    "data.tail()"
   ]
  },
  {
   "cell_type": "markdown",
   "metadata": {
    "deletable": false,
    "editable": false,
    "nbgrader": {
     "cell_type": "markdown",
     "checksum": "22383202dca202e2ea6a9c2df0984a96",
     "grade": false,
     "grade_id": "cell-7f848d5f8acf3a0f",
     "locked": true,
     "schema_version": 3,
     "solution": false
    }
   },
   "source": [
    "### Part 2 (1 point)\n",
    "\n",
    "In this section, you will calculate some basic statistics of the input data.\n",
    "\n",
    "- Calculate how many no-data (NaN) values there are in the `TAVG` column\n",
    "    - Assign your answer to a variable called `tavg_nodata_count`"
   ]
  },
  {
   "cell_type": "code",
   "execution_count": 4,
   "metadata": {
    "deletable": false,
    "nbgrader": {
     "cell_type": "code",
     "checksum": "5dc920edd67206c7cd72e1e908aa0ecb",
     "grade": false,
     "grade_id": "problem_1_ag_p2_tavg_nodata_count",
     "locked": false,
     "schema_version": 3,
     "solution": true
    }
   },
   "outputs": [
    {
     "name": "stdout",
     "output_type": "stream",
     "text": [
      "STATION         0\n",
      "ELEVATION       0\n",
      "LATITUDE        0\n",
      "LONGITUDE       0\n",
      "DATE            0\n",
      "PRCP         1553\n",
      "TAVG         3308\n",
      "TMAX          260\n",
      "TMIN          365\n",
      "dtype: int64\n"
     ]
    }
   ],
   "source": [
    "count =  data.isna().sum()\n",
    "tavg_nodata_count = count ['TAVG']\n",
    "print (count)"
   ]
  },
  {
   "cell_type": "code",
   "execution_count": 5,
   "metadata": {
    "deletable": false,
    "editable": false,
    "nbgrader": {
     "cell_type": "code",
     "checksum": "3bf7578df074c2a60538c0e1ecb9952a",
     "grade": true,
     "grade_id": "problem_1_ag_p2_tavg_nodata_count_test1",
     "locked": true,
     "points": 0.2,
     "schema_version": 3,
     "solution": false
    }
   },
   "outputs": [
    {
     "name": "stdout",
     "output_type": "stream",
     "text": [
      "Number of no-data values in column \"TAVG\": 3308\n"
     ]
    }
   ],
   "source": [
    "# Print out the solution:\n",
    "print(f'Number of no-data values in column \"TAVG\": {tavg_nodata_count}')"
   ]
  },
  {
   "cell_type": "markdown",
   "metadata": {
    "deletable": false,
    "editable": false,
    "nbgrader": {
     "cell_type": "markdown",
     "checksum": "55529fa822f09b326b39216eedf07783",
     "grade": false,
     "grade_id": "cell-600c96096b421522",
     "locked": true,
     "schema_version": 3,
     "solution": false
    }
   },
   "source": [
    "- Calculate how many no-data (NaN) values there are for the `TMIN` column\n",
    "    - Assign your answer into a variable called `tmin_nodata_count`"
   ]
  },
  {
   "cell_type": "code",
   "execution_count": 6,
   "metadata": {
    "deletable": false,
    "nbgrader": {
     "cell_type": "code",
     "checksum": "05106868364a3bae579a286fb230149c",
     "grade": false,
     "grade_id": "problem_1_ag_p2_tmin_nodata_count",
     "locked": false,
     "schema_version": 3,
     "solution": true
    }
   },
   "outputs": [],
   "source": [
    "tmin_nodata_count = count ['TMIN']"
   ]
  },
  {
   "cell_type": "code",
   "execution_count": 7,
   "metadata": {
    "deletable": false,
    "editable": false,
    "nbgrader": {
     "cell_type": "code",
     "checksum": "30c08818ec1b25c5607b75c100300ad2",
     "grade": true,
     "grade_id": "problem_1_tmin_nodata_count_test1",
     "locked": true,
     "points": 0.2,
     "schema_version": 3,
     "solution": false
    }
   },
   "outputs": [
    {
     "name": "stdout",
     "output_type": "stream",
     "text": [
      "Number of no-data values in column \"TMIN\": 365\n"
     ]
    }
   ],
   "source": [
    "# Print out the solution:\n",
    "print(f'Number of no-data values in column \"TMIN\": {tmin_nodata_count}')"
   ]
  },
  {
   "cell_type": "markdown",
   "metadata": {
    "deletable": false,
    "editable": false,
    "nbgrader": {
     "cell_type": "markdown",
     "checksum": "908ddb381122ee0dcfaef62e3d3b8173",
     "grade": false,
     "grade_id": "cell-25998b4f0d14e8f0",
     "locked": true,
     "schema_version": 3,
     "solution": false
    }
   },
   "source": [
    "- Calculate the total number of days covered by this data file\n",
    "    - Assign your answer into a variable called `day_count`"
   ]
  },
  {
   "cell_type": "code",
   "execution_count": 8,
   "metadata": {
    "deletable": false,
    "nbgrader": {
     "cell_type": "code",
     "checksum": "e189e68edd84e8970954ca097e5fe104",
     "grade": false,
     "grade_id": "problem_1_ag_p2_day_count",
     "locked": false,
     "schema_version": 3,
     "solution": true
    }
   },
   "outputs": [],
   "source": [
    "# Создаем серию с датами\n",
    "dates = pd.Series([str((data ['DATE'])[1]), str((data ['DATE'])[len(data)])])\n",
    "\n",
    "# Преобразуем в формат datetime\n",
    "dates = pd.to_datetime(dates, format='%Y%m%d') \n",
    "\n",
    "# Вычисляем разницу между датами в днях\n",
    "num_days = (dates[1] - dates[0]).days\n",
    "\n",
    "day_count = num_days\n"
   ]
  },
  {
   "cell_type": "code",
   "execution_count": 9,
   "metadata": {
    "deletable": false,
    "editable": false,
    "nbgrader": {
     "cell_type": "code",
     "checksum": "f1c8e6f147674b12605b43b9a47d55b6",
     "grade": true,
     "grade_id": "problem_1_ag_p2_day_count_test1",
     "locked": true,
     "points": 0.1,
     "schema_version": 3,
     "solution": false
    }
   },
   "outputs": [
    {
     "name": "stdout",
     "output_type": "stream",
     "text": [
      "Number of days: 24018\n"
     ]
    }
   ],
   "source": [
    "# Print out the solution:\n",
    "print(f'Number of days: {day_count}')"
   ]
  },
  {
   "cell_type": "markdown",
   "metadata": {
    "deletable": false,
    "editable": false,
    "nbgrader": {
     "cell_type": "markdown",
     "checksum": "9cad6f0caab2312ddba764c48fe512cf",
     "grade": false,
     "grade_id": "cell-424dcdef3dde1b89",
     "locked": true,
     "schema_version": 3,
     "solution": false
    }
   },
   "source": [
    "- Find the date of the oldest (first) observation\n",
    "    - Assign your answer into a variable called `first_obs`"
   ]
  },
  {
   "cell_type": "code",
   "execution_count": 10,
   "metadata": {
    "deletable": false,
    "nbgrader": {
     "cell_type": "code",
     "checksum": "4ba7a15891f54d125bb9d0bbcd0611f6",
     "grade": false,
     "grade_id": "problem_1_ag_p2_first_observation",
     "locked": false,
     "schema_version": 3,
     "solution": true
    }
   },
   "outputs": [],
   "source": [
    "first_obs = (dates[0])"
   ]
  },
  {
   "cell_type": "code",
   "execution_count": 11,
   "metadata": {
    "deletable": false,
    "editable": false,
    "nbgrader": {
     "cell_type": "code",
     "checksum": "f566ede9d825ed391af49235124382d2",
     "grade": true,
     "grade_id": "problem_1_ag_p2_first_observation_test1",
     "locked": true,
     "points": 0.1,
     "schema_version": 3,
     "solution": false
    }
   },
   "outputs": [
    {
     "name": "stdout",
     "output_type": "stream",
     "text": [
      "Date of the first observation: 1952-01-01 00:00:00\n"
     ]
    }
   ],
   "source": [
    "# Print out the solution:\n",
    "print(f'Date of the first observation: {first_obs}')"
   ]
  },
  {
   "cell_type": "markdown",
   "metadata": {
    "deletable": false,
    "editable": false,
    "nbgrader": {
     "cell_type": "markdown",
     "checksum": "79af6f07754be8b7f201fef854f0c911",
     "grade": false,
     "grade_id": "cell-1a9a82e0f837ac34",
     "locked": true,
     "schema_version": 3,
     "solution": false
    }
   },
   "source": [
    "- Find the date of the most recent (last) observation\n",
    "    - Assign your answer into a variable called `last_obs`"
   ]
  },
  {
   "cell_type": "code",
   "execution_count": 12,
   "metadata": {
    "deletable": false,
    "nbgrader": {
     "cell_type": "code",
     "checksum": "3fc2457aff864a11b9aa5ad82e9165e2",
     "grade": false,
     "grade_id": "problem_1_ag_p2_last_observation",
     "locked": false,
     "schema_version": 3,
     "solution": true
    }
   },
   "outputs": [],
   "source": [
    "last_obs = (dates[1])"
   ]
  },
  {
   "cell_type": "code",
   "execution_count": 13,
   "metadata": {
    "deletable": false,
    "editable": false,
    "nbgrader": {
     "cell_type": "code",
     "checksum": "5e4371829dbfb5eff482de60ee976881",
     "grade": true,
     "grade_id": "problem_1_ag_p2_last_observation_test1",
     "locked": true,
     "points": 0.1,
     "schema_version": 3,
     "solution": false
    }
   },
   "outputs": [
    {
     "name": "stdout",
     "output_type": "stream",
     "text": [
      "Date of the last observation: 2017-10-04 00:00:00\n"
     ]
    }
   ],
   "source": [
    "# Print out the solution:\n",
    "print(f'Date of the last observation: {last_obs}')\n"
   ]
  },
  {
   "cell_type": "markdown",
   "metadata": {
    "deletable": false,
    "editable": false,
    "nbgrader": {
     "cell_type": "markdown",
     "checksum": "131ae54b07359d9ce8453074f0106fc2",
     "grade": false,
     "grade_id": "cell-3fbd149c1e58a16c",
     "locked": true,
     "schema_version": 3,
     "solution": false
    }
   },
   "source": [
    "- Find the average temperature for the whole data file (all observtions) from column `TAVG`\n",
    "    - Assign your answer into a variable called `avg_temp`"
   ]
  },
  {
   "cell_type": "code",
   "execution_count": 14,
   "metadata": {
    "deletable": false,
    "nbgrader": {
     "cell_type": "code",
     "checksum": "298d692248344926a86003d5c8abfd5b",
     "grade": false,
     "grade_id": "problem_1_ag_p2_avg_temp",
     "locked": false,
     "schema_version": 3,
     "solution": true
    }
   },
   "outputs": [
    {
     "name": "stdout",
     "output_type": "stream",
     "text": [
      "35.560043852251646\n"
     ]
    }
   ],
   "source": [
    "avg_temp = data.fillna(0)\n",
    "avg_temp = avg_temp['TAVG'].astype(int).mean()\n",
    "print (avg_temp)\n"
   ]
  },
  {
   "cell_type": "code",
   "execution_count": 15,
   "metadata": {
    "deletable": false,
    "editable": false,
    "nbgrader": {
     "cell_type": "code",
     "checksum": "40b513b4e924c76f528544ec8a94e645",
     "grade": true,
     "grade_id": "problem_1_ag_p2_avg_temp_test1",
     "locked": true,
     "points": 0.1,
     "schema_version": 3,
     "solution": false
    }
   },
   "outputs": [
    {
     "name": "stdout",
     "output_type": "stream",
     "text": [
      "Average temperature (F) for the whole dataset: 35.56\n"
     ]
    }
   ],
   "source": [
    "# Print out the solution:\n",
    "print(f'Average temperature (F) for the whole dataset: {round(avg_temp, 2)}')"
   ]
  },
  {
   "cell_type": "markdown",
   "metadata": {
    "deletable": false,
    "editable": false,
    "nbgrader": {
     "cell_type": "markdown",
     "checksum": "89a71e9b92393211999ef183d6cc39b2",
     "grade": false,
     "grade_id": "cell-784617d6edc656a6",
     "locked": true,
     "schema_version": 3,
     "solution": false
    }
   },
   "source": [
    "- Find the average `TMAX` temperature over the [Summer of '69](https://www.youtube.com/watch?v=9f06QZCVUHg) (months May, June, July, and August of the year 1969)\n",
    "    - Assign your answer into a variable called `avg_temp_1969`"
   ]
  },
  {
   "cell_type": "code",
   "execution_count": 16,
   "metadata": {
    "deletable": false,
    "nbgrader": {
     "cell_type": "code",
     "checksum": "137e6d29791dbd47e38adf54144ee8ef",
     "grade": false,
     "grade_id": "problem_1_ag_p2_avg_temp_69",
     "locked": false,
     "schema_version": 3,
     "solution": true
    }
   },
   "outputs": [
    {
     "name": "stdout",
     "output_type": "stream",
     "text": [
      "67.82113821138212\n"
     ]
    }
   ],
   "source": [
    "#avg_temp_1969 = data[data['DATE'].str.startswith('19690501') & data['DATE'].str.endswith('19690830')]\n",
    "temp_1969 = (data[(data[data['DATE'].str.startswith('19690501')].index[0])-1:(data[data['DATE'].str.startswith('19690831')].index[0])])\n",
    "avg_temp_1969 = temp_1969['TMAX'].astype(int).mean()\n",
    "print (avg_temp_1969)"
   ]
  },
  {
   "cell_type": "code",
   "execution_count": 17,
   "metadata": {
    "deletable": false,
    "editable": false,
    "nbgrader": {
     "cell_type": "code",
     "checksum": "c9b440fa504e678df9aa067b55315a73",
     "grade": true,
     "grade_id": "problem_1_ag_p2_avg_temp_69_test1",
     "locked": true,
     "points": 0.2,
     "schema_version": 3,
     "solution": false
    }
   },
   "outputs": [
    {
     "name": "stdout",
     "output_type": "stream",
     "text": [
      "Average temperature (F) for the Summer of '69: 67.82\n"
     ]
    }
   ],
   "source": [
    "# This test print should print a number\n",
    "print(f\"Average temperature (F) for the Summer of '69: {round(avg_temp_1969, 2)}\")\n"
   ]
  },
  {
   "cell_type": "markdown",
   "metadata": {
    "deletable": false,
    "editable": false,
    "nbgrader": {
     "cell_type": "markdown",
     "checksum": "c706ce271824d54532a09dcf5c0e7621",
     "grade": false,
     "grade_id": "cell-beeb38c1b8d3eb13",
     "locked": true,
     "schema_version": 3,
     "solution": false
    }
   },
   "source": [
    "## Problem 2 - Calculating monthly average temperatures (3 points)\n",
    "\n",
    "For this problem your goal is to calculate monthly average temperatures in degrees Celsius from the daily Fahrenheit values we have in the data file. You can continue working with the same DataFrame that you used in Problem 1.\n",
    "\n",
    "### Scores for this problem\n",
    "\n",
    "**Your score on this problem will be based on following criteria:**\n",
    "\n",
    "- Calculating the monthly average temperatures in degrees Celsius for the each month in the dataset (i.e., for each month of each year)\n",
    "    - You should store the monthly average temperatures in a new Pandas DataFrame called `monthly_data`\n",
    "    - `monthly_data` should contain a new column called `temp_celsius` the monthly average temperatures in Celsius\n",
    "    - Convert the `TAVG` values in Fahrenheit into Celsius and store the output in the `temp_celsius`\n",
    "- Including comments that explain what most lines in the code do\n",
    "\n",
    "**Hint**: *You can start by creating a new column with a label for each year and month, and then continue grouping the data based on this information.*"
   ]
  },
  {
   "cell_type": "code",
   "execution_count": 18,
   "metadata": {
    "deletable": false,
    "nbgrader": {
     "cell_type": "code",
     "checksum": "62d37e8db69c6a6a3bd72e22f79426fe",
     "grade": false,
     "grade_id": "problem_2_ag_p1_monthly_averages",
     "locked": false,
     "schema_version": 3,
     "solution": true
    }
   },
   "outputs": [
    {
     "name": "stdout",
     "output_type": "stream",
     "text": [
      "     YEAR     MONTH  temp_celsius\n",
      "0    1952    Август            14\n",
      "1    1952    Апрель             4\n",
      "2    1952   Декабрь            -2\n",
      "3    1952      Июль            16\n",
      "4    1952      Июнь            13\n",
      "..    ...       ...           ...\n",
      "677  2017      Март             0\n",
      "678  2017   Октябрь             9\n",
      "679  2017  Сентябрь            11\n",
      "680  2017   Февраль            -3\n",
      "681  2017    Январь            -2\n",
      "\n",
      "[682 rows x 3 columns]\n"
     ]
    },
    {
     "name": "stderr",
     "output_type": "stream",
     "text": [
      "C:\\Users\\matve\\AppData\\Local\\Temp\\ipykernel_20812\\2694862197.py:11: SettingWithCopyWarning: \n",
      "A value is trying to be set on a copy of a slice from a DataFrame.\n",
      "Try using .loc[row_indexer,col_indexer] = value instead\n",
      "\n",
      "See the caveats in the documentation: https://pandas.pydata.org/pandas-docs/stable/user_guide/indexing.html#returning-a-view-versus-a-copy\n",
      "  new_data['MONTH'] = new_data['MONTH'].replace(month_names)\n"
     ]
    }
   ],
   "source": [
    "data['YEAR'] = pd.to_datetime(data['DATE'].astype(str)).dt.year\n",
    "data['MONTH'] = pd.to_datetime(data['DATE'].astype(str)).dt.month\n",
    "data['DAY'] = pd.to_datetime(data['DATE'].astype(str)).dt.day\n",
    "# Применяем формулу для перевода значений из TAVG в градусы Цельсия\n",
    "temp_celsius = data['TAVG'].apply(lambda x: (int(x) - 32) /1.8 if pd.notnull(x) else pd.NA)\n",
    "data['temp_celsius'] = temp_celsius\n",
    "new_data = data[['YEAR', 'MONTH', 'DAY', 'temp_celsius']]\n",
    "# Заменяем числовые значения месяцев на их названия\n",
    "month_names = {1: 'Январь', 2: 'Февраль', 3: 'Март', 4: 'Апрель', 5: 'Май', 6: 'Июнь',\n",
    "               7: 'Июль', 8: 'Август', 9: 'Сентябрь', 10: 'Октябрь', 11: 'Ноябрь', 12: 'Декабрь'}\n",
    "new_data['MONTH'] = new_data['MONTH'].replace(month_names)\n",
    "# Находим среднее значение температуры для каждого месяца каждого года\n",
    "monthly_data = new_data.pivot_table(index=['YEAR', 'MONTH'], values='temp_celsius', aggfunc='mean').reset_index()\n",
    "# Сначала создается сводная таблица pivot_table, где индексами являются год (YEAR) и месяц (MONTH),\n",
    "# а значениями является средняя температура в градусах Цельсия (temp_celsius) из new_data.\n",
    "# С помощью метода reset_index() индексы YEAR и MONTH становятся столбцами таблицы\n",
    "monthly_data.columns.name = None\n",
    "monthly_data.columns = ['YEAR', 'MONTH', 'temp_celsius'] # Меняем название колонок таблицы на 'YEAR', 'MONTH' и 'temp_celsius'.\n",
    "monthly_data['temp_celsius'] = monthly_data['temp_celsius'].astype(int)# Преобразуем значения столбца temp_celsius в целочисленный тип.\n",
    "print(monthly_data)"
   ]
  },
  {
   "cell_type": "code",
   "execution_count": 19,
   "metadata": {
    "deletable": false,
    "editable": false,
    "nbgrader": {
     "cell_type": "code",
     "checksum": "4056e5de535b8a5876a1398db98c6354",
     "grade": true,
     "grade_id": "problem_2_ag_p1_monthly_averages_test1",
     "locked": true,
     "points": 0.2,
     "schema_version": 3,
     "solution": false
    }
   },
   "outputs": [
    {
     "name": "stdout",
     "output_type": "stream",
     "text": [
      "682\n"
     ]
    }
   ],
   "source": [
    "# This test prints the length of variable monthly_data\n",
    "print(len(monthly_data))"
   ]
  },
  {
   "cell_type": "code",
   "execution_count": 20,
   "metadata": {
    "deletable": false,
    "editable": false,
    "nbgrader": {
     "cell_type": "code",
     "checksum": "83df5c3ce9dbc27d43ec8e229d74c2e4",
     "grade": true,
     "grade_id": "problem_2_ag_p1_monthly_averages_test2",
     "locked": true,
     "points": 0.8,
     "schema_version": 3,
     "solution": false
    }
   },
   "outputs": [
    {
     "name": "stdout",
     "output_type": "stream",
     "text": [
      "['YEAR' 'MONTH' 'temp_celsius']\n"
     ]
    }
   ],
   "source": [
    "# This test prints the column names of monthly_data\n",
    "print(monthly_data.columns.values)"
   ]
  },
  {
   "cell_type": "code",
   "execution_count": 21,
   "metadata": {
    "deletable": false,
    "editable": false,
    "nbgrader": {
     "cell_type": "code",
     "checksum": "e549d86372354e9d10991a5b4681afc8",
     "grade": true,
     "grade_id": "problem_2_ag_p1_monthly_averages_test3",
     "locked": true,
     "points": 1,
     "schema_version": 3,
     "solution": false
    }
   },
   "outputs": [
    {
     "name": "stdout",
     "output_type": "stream",
     "text": [
      "4.919354838709677\n"
     ]
    }
   ],
   "source": [
    "# This test prints the mean of temp_celsius\n",
    "print(monthly_data['temp_celsius'].mean())"
   ]
  },
  {
   "cell_type": "code",
   "execution_count": 22,
   "metadata": {
    "deletable": false,
    "editable": false,
    "nbgrader": {
     "cell_type": "code",
     "checksum": "93578f7c39a20ed819ae2e398e2e16fb",
     "grade": true,
     "grade_id": "problem_2_ag_p1_monthly_averages_test4",
     "locked": true,
     "points": 1,
     "schema_version": 3,
     "solution": false
    }
   },
   "outputs": [
    {
     "name": "stdout",
     "output_type": "stream",
     "text": [
      "4.0\n"
     ]
    }
   ],
   "source": [
    "# This test prints the median of temp_celsius\n",
    "print(round(monthly_data['temp_celsius'].median(), 2))"
   ]
  },
  {
   "cell_type": "markdown",
   "metadata": {
    "deletable": false,
    "editable": false,
    "nbgrader": {
     "cell_type": "markdown",
     "checksum": "7eed5a388610075bb6cf46016d183bb0",
     "grade": false,
     "grade_id": "cell-ccd31e45c30df3ec",
     "locked": true,
     "schema_version": 3,
     "solution": false
    }
   },
   "source": [
    "## Problem 3 - Calculating temperature anomalies (5 points)\n",
    "\n",
    "Our goal in this problem is to calculate monthly temperature anomalies in order to see how temperatures have changed over time, relative to an observation period between 1952-1980. You can continue working with the same data that you used in Problems 1 and 2.\n",
    "\n",
    "**Your score on this problem will be based on following criteria:**\n",
    "\n",
    "### Part 1\n",
    "\n",
    "- Calculating ***the average (mean) temperature for each month (e.g., January, February, March, ...) over the period from 1952 up to and including 1980*** in a new DataFrame called `reference_temps`\n",
    "    - You should end up with 12 values, 1 mean temperature for each month during the time period (see example table and figure below).\n",
    "    - The columns in the new DataFrame should be `month` and `ref_temp`\n",
    "    \n",
    "Your `reference_temps` dataframe should have the following structure: 1 value for each month of the year (12 total) and the values represent and average in the observation period 1952-1980. The `ref_temp` temperatures should be in degrees Celsius.\n",
    "   \n",
    "| month    | ref_temp         |\n",
    "|----------|------------------|\n",
    "| 01       | -5.838761        |\n",
    "| 02       | -7.064088        |\n",
    "| 03       | -3.874213        |\n",
    "| ...      | ...              |\n",
    "\n",
    "### Part 2\n",
    "\n",
    "- Calculating **a temperature anomaly for every month** in the `monthly_data` DataFrame using the corresponding monthly average temperature for each of the 12 months:\n",
    "    - In order to achieve this you need to make **a table join** (see [hints for this week](https://geo-python-site.readthedocs.io/en/develop/lessons/L6/exercise-6.html#joining-data-from-one-dataframe-to-another)) between `monthly_data` and `ref_temps` based on the month.\n",
    "    - The temperature anomaly is calculated as the difference between the temperature for a given month (`temp_celsius` column in `monthly_data`) and the corresponding monthly reference temperature (`ref_temp` column in`reference_temps`).\n",
    "    - Store the result in a new column `\"diff\"` \n",
    "    \n",
    "As the output of the table join and the calculation, you should have three new columns in the `monthly_data` DataFrame:\n",
    "\n",
    "1. `diff`: The temperature anomaly, i.e. the difference between the temperature for a given month (e.g., February 1960) and the mean temperature during the reference period (e.g., the average of all Februaries between 1952 and 1980), \n",
    "2. `month`: The month for that row of observations\n",
    "3. `ref_temp`: The monthly reference temperature\n",
    "\n",
    "A summary of the relationships between the `monthly_data` and `reference_temps` DataFrames, as well as how the `diff` value should be calculated in the `monthly_data` DataFrame is presented in the figure below.\n",
    "\n",
    "![Exercise 6 dataframes](img/exercise-6-dataframes.png)<br/>\n",
    "*Figure 1. Relationships between the `monthly_data` and `reference_temps` DataFrames.*\n",
    "\n",
    "You should finally report which month had the greatest weather anomaly during the observed time period.\n",
    "\n",
    "Remember to include comments in your code."
   ]
  },
  {
   "cell_type": "code",
   "execution_count": 24,
   "metadata": {
    "deletable": false,
    "nbgrader": {
     "cell_type": "code",
     "checksum": "1e0b52840218bc91e6aed8f49134be4f",
     "grade": false,
     "grade_id": "problem_3_ag_p1_temperature_anomaly",
     "locked": false,
     "schema_version": 3,
     "solution": true
    }
   },
   "outputs": [
    {
     "name": "stdout",
     "output_type": "stream",
     "text": [
      "       month   ref_temp\n",
      "0     Август  15.022075\n",
      "1     Апрель   2.427875\n",
      "2    Декабрь  -4.168044\n",
      "3       Июль  16.498881\n",
      "4       Июнь  14.711898\n",
      "5        Май   9.522613\n",
      "6       Март   -3.84127\n",
      "7     Ноябрь   0.323512\n",
      "8    Октябрь   4.947222\n",
      "9   Сентябрь    9.91092\n",
      "10   Февраль  -6.990482\n",
      "11    Январь  -5.877342\n"
     ]
    }
   ],
   "source": [
    "\n",
    "reference_data = new_data[(new_data['YEAR'] >= 1952) & (new_data['YEAR'] <= 1980)]\n",
    "\n",
    "reference_temps = reference_data.groupby('MONTH')['temp_celsius'].mean().reset_index()\n",
    "reference_temps.columns = ['month', 'ref_temp']\n",
    "\n",
    "print(reference_temps)"
   ]
  },
  {
   "cell_type": "code",
   "execution_count": null,
   "metadata": {
    "deletable": false,
    "editable": false,
    "nbgrader": {
     "cell_type": "code",
     "checksum": "62c207f31e93d4acf7be882e988e402d",
     "grade": true,
     "grade_id": "problem_3_ag_p1_temperature_anomaly_test1",
     "locked": true,
     "points": 1,
     "schema_version": 3,
     "solution": false
    }
   },
   "outputs": [
    {
     "data": {
      "text/html": [
       "<div>\n",
       "<style scoped>\n",
       "    .dataframe tbody tr th:only-of-type {\n",
       "        vertical-align: middle;\n",
       "    }\n",
       "\n",
       "    .dataframe tbody tr th {\n",
       "        vertical-align: top;\n",
       "    }\n",
       "\n",
       "    .dataframe thead th {\n",
       "        text-align: right;\n",
       "    }\n",
       "</style>\n",
       "<table border=\"1\" class=\"dataframe\">\n",
       "  <thead>\n",
       "    <tr style=\"text-align: right;\">\n",
       "      <th></th>\n",
       "      <th>month</th>\n",
       "      <th>ref_temp</th>\n",
       "    </tr>\n",
       "  </thead>\n",
       "  <tbody>\n",
       "    <tr>\n",
       "      <th>0</th>\n",
       "      <td>Август</td>\n",
       "      <td>15.022075</td>\n",
       "    </tr>\n",
       "    <tr>\n",
       "      <th>1</th>\n",
       "      <td>Апрель</td>\n",
       "      <td>2.427875</td>\n",
       "    </tr>\n",
       "    <tr>\n",
       "      <th>2</th>\n",
       "      <td>Декабрь</td>\n",
       "      <td>-4.168044</td>\n",
       "    </tr>\n",
       "    <tr>\n",
       "      <th>3</th>\n",
       "      <td>Июль</td>\n",
       "      <td>16.498881</td>\n",
       "    </tr>\n",
       "    <tr>\n",
       "      <th>4</th>\n",
       "      <td>Июнь</td>\n",
       "      <td>14.711898</td>\n",
       "    </tr>\n",
       "  </tbody>\n",
       "</table>\n",
       "</div>"
      ],
      "text/plain": [
       "     month   ref_temp\n",
       "0   Август  15.022075\n",
       "1   Апрель   2.427875\n",
       "2  Декабрь  -4.168044\n",
       "3     Июль  16.498881\n",
       "4     Июнь  14.711898"
      ]
     },
     "execution_count": 73,
     "metadata": {},
     "output_type": "execute_result"
    }
   ],
   "source": [
    "# Check the monthly data:\n",
    "monthly_data.head()"
   ]
  },
  {
   "cell_type": "code",
   "execution_count": null,
   "metadata": {
    "deletable": false,
    "editable": false,
    "nbgrader": {
     "cell_type": "code",
     "checksum": "8cd77d3c5aa734cd67c966f6513c16c8",
     "grade": true,
     "grade_id": "problem_3_ag_p1_temperature_anomaly_test2",
     "locked": true,
     "points": 4,
     "schema_version": 3,
     "solution": false
    }
   },
   "outputs": [
    {
     "ename": "KeyError",
     "evalue": "\"['temp_celsius', 'diff'] not in index\"",
     "output_type": "error",
     "traceback": [
      "\u001b[1;31m---------------------------------------------------------------------------\u001b[0m",
      "\u001b[1;31mKeyError\u001b[0m                                  Traceback (most recent call last)",
      "Cell \u001b[1;32mIn[74], line 2\u001b[0m\n\u001b[0;32m      1\u001b[0m \u001b[38;5;66;03m# Print out desriptive statistics for the relevant columns:\u001b[39;00m\n\u001b[1;32m----> 2\u001b[0m monthly_data[[\u001b[38;5;124m\"\u001b[39m\u001b[38;5;124mtemp_celsius\u001b[39m\u001b[38;5;124m\"\u001b[39m, \u001b[38;5;124m\"\u001b[39m\u001b[38;5;124mref_temp\u001b[39m\u001b[38;5;124m\"\u001b[39m, \u001b[38;5;124m\"\u001b[39m\u001b[38;5;124mdiff\u001b[39m\u001b[38;5;124m\"\u001b[39m]]\u001b[38;5;241m.\u001b[39mdescribe()\n",
      "File \u001b[1;32mc:\\Users\\matve\\anaconda3\\Lib\\site-packages\\pandas\\core\\frame.py:3767\u001b[0m, in \u001b[0;36mDataFrame.__getitem__\u001b[1;34m(self, key)\u001b[0m\n\u001b[0;32m   3765\u001b[0m     \u001b[38;5;28;01mif\u001b[39;00m is_iterator(key):\n\u001b[0;32m   3766\u001b[0m         key \u001b[38;5;241m=\u001b[39m \u001b[38;5;28mlist\u001b[39m(key)\n\u001b[1;32m-> 3767\u001b[0m     indexer \u001b[38;5;241m=\u001b[39m \u001b[38;5;28mself\u001b[39m\u001b[38;5;241m.\u001b[39mcolumns\u001b[38;5;241m.\u001b[39m_get_indexer_strict(key, \u001b[38;5;124m\"\u001b[39m\u001b[38;5;124mcolumns\u001b[39m\u001b[38;5;124m\"\u001b[39m)[\u001b[38;5;241m1\u001b[39m]\n\u001b[0;32m   3769\u001b[0m \u001b[38;5;66;03m# take() does not accept boolean indexers\u001b[39;00m\n\u001b[0;32m   3770\u001b[0m \u001b[38;5;28;01mif\u001b[39;00m \u001b[38;5;28mgetattr\u001b[39m(indexer, \u001b[38;5;124m\"\u001b[39m\u001b[38;5;124mdtype\u001b[39m\u001b[38;5;124m\"\u001b[39m, \u001b[38;5;28;01mNone\u001b[39;00m) \u001b[38;5;241m==\u001b[39m \u001b[38;5;28mbool\u001b[39m:\n",
      "File \u001b[1;32mc:\\Users\\matve\\anaconda3\\Lib\\site-packages\\pandas\\core\\indexes\\base.py:5877\u001b[0m, in \u001b[0;36mIndex._get_indexer_strict\u001b[1;34m(self, key, axis_name)\u001b[0m\n\u001b[0;32m   5874\u001b[0m \u001b[38;5;28;01melse\u001b[39;00m:\n\u001b[0;32m   5875\u001b[0m     keyarr, indexer, new_indexer \u001b[38;5;241m=\u001b[39m \u001b[38;5;28mself\u001b[39m\u001b[38;5;241m.\u001b[39m_reindex_non_unique(keyarr)\n\u001b[1;32m-> 5877\u001b[0m \u001b[38;5;28mself\u001b[39m\u001b[38;5;241m.\u001b[39m_raise_if_missing(keyarr, indexer, axis_name)\n\u001b[0;32m   5879\u001b[0m keyarr \u001b[38;5;241m=\u001b[39m \u001b[38;5;28mself\u001b[39m\u001b[38;5;241m.\u001b[39mtake(indexer)\n\u001b[0;32m   5880\u001b[0m \u001b[38;5;28;01mif\u001b[39;00m \u001b[38;5;28misinstance\u001b[39m(key, Index):\n\u001b[0;32m   5881\u001b[0m     \u001b[38;5;66;03m# GH 42790 - Preserve name from an Index\u001b[39;00m\n",
      "File \u001b[1;32mc:\\Users\\matve\\anaconda3\\Lib\\site-packages\\pandas\\core\\indexes\\base.py:5941\u001b[0m, in \u001b[0;36mIndex._raise_if_missing\u001b[1;34m(self, key, indexer, axis_name)\u001b[0m\n\u001b[0;32m   5938\u001b[0m     \u001b[38;5;28;01mraise\u001b[39;00m \u001b[38;5;167;01mKeyError\u001b[39;00m(\u001b[38;5;124mf\u001b[39m\u001b[38;5;124m\"\u001b[39m\u001b[38;5;124mNone of [\u001b[39m\u001b[38;5;132;01m{\u001b[39;00mkey\u001b[38;5;132;01m}\u001b[39;00m\u001b[38;5;124m] are in the [\u001b[39m\u001b[38;5;132;01m{\u001b[39;00maxis_name\u001b[38;5;132;01m}\u001b[39;00m\u001b[38;5;124m]\u001b[39m\u001b[38;5;124m\"\u001b[39m)\n\u001b[0;32m   5940\u001b[0m not_found \u001b[38;5;241m=\u001b[39m \u001b[38;5;28mlist\u001b[39m(ensure_index(key)[missing_mask\u001b[38;5;241m.\u001b[39mnonzero()[\u001b[38;5;241m0\u001b[39m]]\u001b[38;5;241m.\u001b[39munique())\n\u001b[1;32m-> 5941\u001b[0m \u001b[38;5;28;01mraise\u001b[39;00m \u001b[38;5;167;01mKeyError\u001b[39;00m(\u001b[38;5;124mf\u001b[39m\u001b[38;5;124m\"\u001b[39m\u001b[38;5;132;01m{\u001b[39;00mnot_found\u001b[38;5;132;01m}\u001b[39;00m\u001b[38;5;124m not in index\u001b[39m\u001b[38;5;124m\"\u001b[39m)\n",
      "\u001b[1;31mKeyError\u001b[0m: \"['temp_celsius', 'diff'] not in index\""
     ]
    }
   ],
   "source": [
    "# Print out desriptive statistics for the relevant columns:\n",
    "monthly_data[[\"temp_celsius\", \"ref_temp\", \"diff\"]].describe()"
   ]
  },
  {
   "cell_type": "markdown",
   "metadata": {
    "deletable": false,
    "editable": false,
    "nbgrader": {
     "cell_type": "markdown",
     "checksum": "26c896552bd7468608a123f5ab321b18",
     "grade": false,
     "grade_id": "cell-bf1e120de1e8386e",
     "locked": true,
     "schema_version": 3,
     "solution": false,
     "task": false
    }
   },
   "source": [
    "Remember also to calculate which month had the largest temperature anomaly during the observed time period in comparison with the reference data. Use the cell below to calculate and print out the answers. Note, you may want to consider the largest absolute value of the temperature anomaly, as well as the largest positive and negative anomalies."
   ]
  },
  {
   "cell_type": "code",
   "execution_count": null,
   "metadata": {
    "deletable": false,
    "nbgrader": {
     "cell_type": "code",
     "checksum": "e1c152b58226fca2c1d60600220754ca",
     "grade": true,
     "grade_id": "problem_3_mg_p2_extra_question",
     "locked": false,
     "points": 0,
     "schema_version": 3,
     "solution": true,
     "task": false
    }
   },
   "outputs": [],
   "source": [
    "# YOUR CODE HERE\n",
    "raise NotImplementedError()"
   ]
  },
  {
   "cell_type": "markdown",
   "metadata": {
    "deletable": false,
    "editable": false,
    "nbgrader": {
     "cell_type": "markdown",
     "checksum": "a243cc6034fed82c367bd71510863b73",
     "grade": false,
     "grade_id": "cell-240aee28f2cbad38",
     "locked": true,
     "schema_version": 3,
     "solution": false,
     "task": false
    },
    "tags": []
   },
   "source": [
    "## Part 3 (*optional*) - **AI-LLM OK**\n",
    "\n",
    "Using [ChatGPT](https://openai.com/chatgpt), calculate the reference temperatures and temperature anomalies as directed above.\n",
    "\n",
    "- Your reference temperatures should be stored in a new DataFrame called `ai_reference_temps`\n",
    "    - The columns in the new DataFrame should be `month` and `ai_ref_temp`\n",
    "- Calculate **a temperature anomaly for every month** in the `monthly_data` DataFrame using the corresponding monthly average temperature for each of the 12 months:\n",
    "    - You again need to make **a table join** (see [hints for this week](https://geo-python-site.readthedocs.io/en/develop/lessons/L6/exercise-6.html#joining-data-from-one-dataframe-to-another)) between `monthly_data` and `ai_ref_temps` based on the month.\n",
    "    - The temperature anomaly is calculated as the difference between the temperature for a given month (`temp_celsius` column in `monthly_data`) and the corresponding monthly reference temperature (`ai_ref_temp` column in`reference_temps`).\n",
    "    - Store the result in a new column `\"ai_diff\"` \n",
    "\n",
    "In order to do this, you should post both the prompt you provide to ChatGPT and the code it produces in the cells below. As your prompts may need to be refined to get your code working, please report each prompt so we can see how you arrived at your final version of the function."
   ]
  },
  {
   "cell_type": "markdown",
   "metadata": {
    "deletable": false,
    "editable": false,
    "nbgrader": {
     "cell_type": "markdown",
     "checksum": "b377a286009ddb9c7005dd296b946f16",
     "grade": false,
     "grade_id": "cell-b8977920050dc044",
     "locked": true,
     "schema_version": 3,
     "solution": false,
     "task": false
    },
    "tags": []
   },
   "source": [
    "### Prompt 1\n",
    "\n",
    "Enter the text of the first prompt you used for this part of the exercise below."
   ]
  },
  {
   "cell_type": "markdown",
   "metadata": {
    "deletable": false,
    "nbgrader": {
     "cell_type": "markdown",
     "checksum": "7d2254c835ec3438492636d460f64362",
     "grade": true,
     "grade_id": "problem_3_prompt1",
     "locked": false,
     "points": 0,
     "schema_version": 3,
     "solution": true,
     "task": false
    },
    "tags": []
   },
   "source": [
    "YOUR ANSWER HERE"
   ]
  },
  {
   "cell_type": "markdown",
   "metadata": {
    "deletable": false,
    "editable": false,
    "nbgrader": {
     "cell_type": "markdown",
     "checksum": "479a9f5b2adea67c4f21629ab4bf289d",
     "grade": false,
     "grade_id": "cell-7fa9cb54703018e4",
     "locked": true,
     "schema_version": 3,
     "solution": false,
     "task": false
    },
    "tags": []
   },
   "source": [
    "Enter the code generated by your first prompt below."
   ]
  },
  {
   "cell_type": "code",
   "execution_count": null,
   "metadata": {
    "deletable": false,
    "nbgrader": {
     "cell_type": "code",
     "checksum": "92f417ea58e3b00c2ed9e38e8319f961",
     "grade": true,
     "grade_id": "problem_3_prompt1_code",
     "locked": false,
     "points": 0,
     "schema_version": 3,
     "solution": true,
     "task": false
    },
    "tags": []
   },
   "outputs": [],
   "source": [
    "# YOUR CODE HERE\n",
    "raise NotImplementedError()"
   ]
  },
  {
   "cell_type": "markdown",
   "metadata": {
    "deletable": false,
    "editable": false,
    "nbgrader": {
     "cell_type": "markdown",
     "checksum": "c4707a027ab1601ef14f5da3bc7db5a4",
     "grade": false,
     "grade_id": "cell-e8d9d559ca92cd30",
     "locked": true,
     "schema_version": 3,
     "solution": false,
     "task": false
    },
    "tags": []
   },
   "source": [
    "Looking at the function produced by ChatGPT do you see any problems compared to your solution in Part 1? Please comment below about this."
   ]
  },
  {
   "cell_type": "markdown",
   "metadata": {
    "deletable": false,
    "nbgrader": {
     "cell_type": "markdown",
     "checksum": "9b8e0446b40af40036d872f2ab6d1290",
     "grade": true,
     "grade_id": "problem_3_prompt1_comments",
     "locked": false,
     "points": 0,
     "schema_version": 3,
     "solution": true,
     "task": false
    },
    "tags": []
   },
   "source": [
    "YOUR ANSWER HERE"
   ]
  },
  {
   "cell_type": "markdown",
   "metadata": {
    "deletable": false,
    "editable": false,
    "nbgrader": {
     "cell_type": "markdown",
     "checksum": "7cc52a85287b9b9718e2bb7c30872398",
     "grade": false,
     "grade_id": "cell-5322fb5cceca329f",
     "locked": true,
     "schema_version": 3,
     "solution": false,
     "task": false
    },
    "tags": []
   },
   "source": [
    "Test out your code by running the tests below."
   ]
  },
  {
   "cell_type": "code",
   "execution_count": null,
   "metadata": {
    "deletable": false,
    "editable": false,
    "nbgrader": {
     "cell_type": "code",
     "checksum": "7c62ed2f068b6e2cc42f6d701a79f04d",
     "grade": true,
     "grade_id": "problem_3_ag_p3_ai_anomalies_test1",
     "locked": true,
     "points": 0,
     "schema_version": 3,
     "solution": false,
     "task": false
    },
    "tags": []
   },
   "outputs": [],
   "source": [
    "# Check the monthly data:\n",
    "monthly_data.head()"
   ]
  },
  {
   "cell_type": "code",
   "execution_count": null,
   "metadata": {
    "deletable": false,
    "editable": false,
    "nbgrader": {
     "cell_type": "code",
     "checksum": "d5d2b7c787e6fe04734093a642ae8108",
     "grade": true,
     "grade_id": "problem_3_ag_p3_ai_anomalies_test2",
     "locked": true,
     "points": 0,
     "schema_version": 3,
     "solution": false,
     "task": false
    },
    "tags": []
   },
   "outputs": [],
   "source": [
    "# Print out desriptive statistics for the relevant columns:\n",
    "monthly_data[[\"temp_celsius\", \"ai_ref_temp\", \"ai_diff\"]].describe()"
   ]
  },
  {
   "cell_type": "markdown",
   "metadata": {
    "deletable": false,
    "editable": false,
    "nbgrader": {
     "cell_type": "markdown",
     "checksum": "3fda2a1c880a8cf1cd39767db9ab9cc4",
     "grade": false,
     "grade_id": "cell-814ec00b7cfa9491",
     "locked": true,
     "schema_version": 3,
     "solution": false,
     "task": false
    },
    "tags": []
   },
   "source": [
    "### Additional prompts\n",
    "\n",
    "In the event your code does not pass all of the tests above, please enter the prompt(s) you used to refine the function in the cell below. If you used more than one prompt, you can format them as a Markdown list using the format demonstrated below:\n",
    "\n",
    "```\n",
    "1. First prompt\n",
    "2. Second prompt\n",
    "3. ...\n",
    "```\n",
    "\n",
    "If no additional prompts were needed, you can skip this."
   ]
  },
  {
   "cell_type": "markdown",
   "metadata": {
    "deletable": false,
    "nbgrader": {
     "cell_type": "markdown",
     "checksum": "1c58aa6d1b5378633a6be16682be900c",
     "grade": true,
     "grade_id": "problem_3_additional_prompts",
     "locked": false,
     "points": 0,
     "schema_version": 3,
     "solution": true,
     "task": false
    },
    "tags": []
   },
   "source": [
    "YOUR ANSWER HERE"
   ]
  },
  {
   "cell_type": "markdown",
   "metadata": {
    "deletable": false,
    "editable": false,
    "nbgrader": {
     "cell_type": "markdown",
     "checksum": "805c542594d142c8d0e55c2febc08a1e",
     "grade": false,
     "grade_id": "cell-e240eebedbc7f5a8",
     "locked": true,
     "schema_version": 3,
     "solution": false,
     "task": false
    },
    "tags": []
   },
   "source": [
    "Enter the final version of your code produced by ChatGPT in the cell below. You can test the code by re-running the tests above after updating the code below."
   ]
  },
  {
   "cell_type": "code",
   "execution_count": null,
   "metadata": {
    "deletable": false,
    "nbgrader": {
     "cell_type": "code",
     "checksum": "7e0727ead19a6d685f561166cd8bc005",
     "grade": true,
     "grade_id": "problem_3_additional_prompts_code",
     "locked": false,
     "points": 0,
     "schema_version": 3,
     "solution": true,
     "task": false
    },
    "tags": []
   },
   "outputs": [],
   "source": [
    "# YOUR CODE HERE\n",
    "raise NotImplementedError()"
   ]
  },
  {
   "cell_type": "markdown",
   "metadata": {
    "deletable": false,
    "editable": false,
    "nbgrader": {
     "cell_type": "markdown",
     "checksum": "579292b64b516c6132c33e022f6c8ff1",
     "grade": false,
     "grade_id": "cell-d5f2d1f02886a81e",
     "locked": true,
     "schema_version": 3,
     "solution": false,
     "task": false
    },
    "tags": []
   },
   "source": [
    "Does your revised function now pass all of the tests?\n",
    "- If yes, please comment below about your experience using ChatGPT and the benefits and drawbacks you see.\n",
    "- If no, what kinds of problems do you see with the revised function produced by ChatGPT compared to your solution in Part 1? Please comment below about this."
   ]
  },
  {
   "cell_type": "markdown",
   "metadata": {
    "deletable": false,
    "nbgrader": {
     "cell_type": "markdown",
     "checksum": "e8c4985a60a89af2836cc1a6770742f8",
     "grade": true,
     "grade_id": "problem_3_additional_prompts_comments",
     "locked": false,
     "points": 0,
     "schema_version": 3,
     "solution": true,
     "task": false
    },
    "tags": []
   },
   "source": [
    "YOUR ANSWER HERE"
   ]
  },
  {
   "cell_type": "markdown",
   "metadata": {
    "deletable": false,
    "editable": false,
    "nbgrader": {
     "cell_type": "markdown",
     "checksum": "d876dd3b631f41f36f51d4d35374f80a",
     "grade": false,
     "grade_id": "cell-c04e09ef1ce70071",
     "locked": true,
     "schema_version": 3,
     "solution": false,
     "task": false
    },
    "tags": []
   },
   "source": [
    "### Final comments\n",
    "\n",
    "If you have any other comments about your experience using ChatGPT in this problem, please enter those below."
   ]
  },
  {
   "cell_type": "markdown",
   "metadata": {
    "deletable": false,
    "nbgrader": {
     "cell_type": "markdown",
     "checksum": "a807458696f204d907ae2c4945ef622b",
     "grade": true,
     "grade_id": "problem_3_chatgpt_comments",
     "locked": false,
     "points": 0,
     "schema_version": 3,
     "solution": true,
     "task": false
    },
    "tags": []
   },
   "source": [
    "YOUR ANSWER HERE"
   ]
  },
  {
   "cell_type": "markdown",
   "metadata": {
    "deletable": false,
    "editable": false,
    "nbgrader": {
     "cell_type": "markdown",
     "checksum": "05d75271b13f8fd543895353efb8b61c",
     "grade": false,
     "grade_id": "cell-99d62d1b7e475fd6",
     "locked": true,
     "schema_version": 3,
     "solution": false
    }
   },
   "source": [
    "### On to Problem 4 (*optional*)\n",
    "\n",
    "Now you can continue to the *optional* [Problem 4](Exercise-6-problem-4.ipynb)"
   ]
  }
 ],
 "metadata": {
  "kernelspec": {
   "display_name": "Python 3 (ipykernel)",
   "language": "python",
   "name": "python3"
  },
  "language_info": {
   "codemirror_mode": {
    "name": "ipython",
    "version": 3
   },
   "file_extension": ".py",
   "mimetype": "text/x-python",
   "name": "python",
   "nbconvert_exporter": "python",
   "pygments_lexer": "ipython3",
   "version": "3.11.5"
  }
 },
 "nbformat": 4,
 "nbformat_minor": 4
}
